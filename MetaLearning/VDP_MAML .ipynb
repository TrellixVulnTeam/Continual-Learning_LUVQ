{
 "cells": [
  {
   "cell_type": "code",
   "execution_count": 1,
   "metadata": {},
   "outputs": [],
   "source": [
    "#pip install torchsummary"
   ]
  },
  {
   "cell_type": "code",
   "execution_count": 52,
   "metadata": {},
   "outputs": [],
   "source": [
    "import os\n",
    "os.environ[\"CUDA_DEVICE_ORDER\"] = \"PCI_BUS_ID\"\n",
    "# For mutliple devices (GPUs: 4, 5, 6, 7)\n",
    "os.environ[\"CUDA_VISIBLE_DEVICES\"] = \"7\""
   ]
  },
  {
   "cell_type": "code",
   "execution_count": 1,
   "metadata": {},
   "outputs": [],
   "source": [
    "import random\n",
    "import numpy as np\n",
    "import torch\n",
    "from torch import nn, optim\n",
    "import learn2learn as l2l\n",
    "from torchvision.models import resnet18\n",
    "import torchvision\n",
    "from torchvision import transforms\n",
    "from learn2learn.data import TaskDataset\n",
    "from learn2learn.data.transforms import (NWays,\n",
    "                                         KShots,\n",
    "                                         LoadData,\n",
    "                                         RemapLabels,\n",
    "                                         ConsecutiveLabels)\n",
    "import random\n",
    "\n"
   ]
  },
  {
   "cell_type": "code",
   "execution_count": 2,
   "metadata": {},
   "outputs": [
    {
     "name": "stdout",
     "output_type": "stream",
     "text": [
      "Device: cuda\n"
     ]
    }
   ],
   "source": [
    "#No randomization\n",
    "seed = 101\n",
    "random.seed(seed)\n",
    "np.random.seed(seed)\n",
    "torch.manual_seed(seed)\n",
    "device = torch.device('cpu')\n",
    "if torch.cuda.device_count():\n",
    "    torch.cuda.manual_seed(seed)\n",
    "    device = torch.device('cuda')\n",
    "    print(\"Device:\", device)"
   ]
  },
  {
   "cell_type": "code",
   "execution_count": 3,
   "metadata": {},
   "outputs": [],
   "source": [
    "#Dataset\n",
    "# transforms\n",
    "transform = transforms.Compose(\n",
    "    [transforms.ToTensor(),\n",
    "    transforms.Normalize((0.5,), (0.5,))])\n",
    "\n",
    "dataset = torchvision.datasets.MNIST(root=\"data\", train=True, download=True, transform=transform)\n",
    "\n"
   ]
  },
  {
   "cell_type": "code",
   "execution_count": 4,
   "metadata": {},
   "outputs": [
    {
     "name": "stdout",
     "output_type": "stream",
     "text": [
      "tensor([8, 8, 8, 8, 8, 8, 8, 8, 8, 8, 1, 1, 1, 1, 1, 1, 1, 1, 1, 1])\n",
      "tensor([0, 0, 0, 0, 0, 0, 0, 0, 0, 0, 6, 6, 6, 6, 6, 6, 6, 6, 6, 6])\n",
      "tensor([9, 9, 9, 9, 9, 9, 9, 9, 9, 9, 3, 3, 3, 3, 3, 3, 3, 3, 3, 3])\n",
      "tensor([4, 4, 4, 4, 4, 4, 4, 4, 4, 4, 5, 5, 5, 5, 5, 5, 5, 5, 5, 5])\n",
      "tensor([5, 5, 5, 5, 5, 5, 5, 5, 5, 5, 2, 2, 2, 2, 2, 2, 2, 2, 2, 2])\n"
     ]
    }
   ],
   "source": [
    "#MetaDataset MNIST or Custom Dataset\n",
    "dataset = l2l.data.MetaDataset(dataset)\n",
    "ways = 2\n",
    "shots = 10\n",
    "transforms = [\n",
    "    NWays(dataset, n=ways),\n",
    "    KShots(dataset, k=shots),\n",
    "    LoadData(dataset),\n",
    "]\n",
    "tasksets = TaskDataset(dataset, transforms, num_tasks=5)\n",
    "# MetaDataset Sampling\n",
    "for task in tasksets:\n",
    "    X, y = task\n",
    "    print(y)"
   ]
  },
  {
   "cell_type": "code",
   "execution_count": 6,
   "metadata": {},
   "outputs": [],
   "source": [
    "#Builtin-MetaDatasets\n",
    "dataset_name = \"cifarfs\"\n",
    "# \"omniglot\"\n",
    "#             \"mini-imagenet\", \n",
    "#             \"fc100\", \"cifarfs\", \"tiered-imagenet\"\n",
    "ways = 4\n",
    "shots = 5\n",
    "\n",
    "# Create Tasksets using the benchmark interface\n",
    "tasksets = l2l.vision.benchmarks.get_tasksets(dataset_name,\n",
    "                                              train_samples=shots,#2*shots,\n",
    "                                              train_ways=ways,\n",
    "                                              test_samples=shots,#2*shots,\n",
    "                                              test_ways=ways,\n",
    "                                              root='~/data',\n",
    "                                             )"
   ]
  },
  {
   "cell_type": "code",
   "execution_count": 10,
   "metadata": {},
   "outputs": [
    {
     "name": "stdout",
     "output_type": "stream",
     "text": [
      "torch.Size([20, 3, 32, 32])\n",
      "tensor([[[0.8549, 0.8471, 0.8549,  ..., 0.9333, 0.9373, 0.9373],\n",
      "         [0.8353, 0.8275, 0.8314,  ..., 0.9020, 0.9059, 0.9059],\n",
      "         [0.8275, 0.8235, 0.8235,  ..., 0.8902, 0.8902, 0.8902],\n",
      "         ...,\n",
      "         [0.7333, 0.7255, 0.7255,  ..., 0.7529, 0.7569, 0.7647],\n",
      "         [0.7373, 0.7294, 0.7255,  ..., 0.7490, 0.7529, 0.7490],\n",
      "         [0.7294, 0.7255, 0.7216,  ..., 0.6627, 0.6235, 0.5608]],\n",
      "\n",
      "        [[0.8392, 0.8353, 0.8392,  ..., 0.9333, 0.9373, 0.9412],\n",
      "         [0.8118, 0.8078, 0.8118,  ..., 0.9098, 0.9137, 0.9137],\n",
      "         [0.7961, 0.7882, 0.7961,  ..., 0.9020, 0.9059, 0.9059],\n",
      "         ...,\n",
      "         [0.6824, 0.6745, 0.6784,  ..., 0.7608, 0.7647, 0.7725],\n",
      "         [0.6784, 0.6706, 0.6667,  ..., 0.7529, 0.7569, 0.7569],\n",
      "         [0.6745, 0.6667, 0.6549,  ..., 0.6627, 0.6235, 0.5608]],\n",
      "\n",
      "        [[0.8039, 0.8000, 0.8118,  ..., 0.9333, 0.9373, 0.9373],\n",
      "         [0.7765, 0.7725, 0.7804,  ..., 0.9059, 0.9098, 0.9098],\n",
      "         [0.7569, 0.7529, 0.7608,  ..., 0.8980, 0.9020, 0.9020],\n",
      "         ...,\n",
      "         [0.6353, 0.6275, 0.6353,  ..., 0.7451, 0.7490, 0.7529],\n",
      "         [0.6235, 0.6157, 0.6157,  ..., 0.7373, 0.7373, 0.7373],\n",
      "         [0.6235, 0.6157, 0.6039,  ..., 0.6353, 0.5882, 0.5255]]])\n",
      "tensor([[[0.8549, 0.8471, 0.8549,  ..., 0.9333, 0.9373, 0.9373],\n",
      "         [0.8353, 0.8275, 0.8314,  ..., 0.9020, 0.9059, 0.9059],\n",
      "         [0.8275, 0.8235, 0.8235,  ..., 0.8902, 0.8902, 0.8902],\n",
      "         ...,\n",
      "         [0.7333, 0.7255, 0.7255,  ..., 0.7529, 0.7569, 0.7647],\n",
      "         [0.7373, 0.7294, 0.7255,  ..., 0.7490, 0.7529, 0.7490],\n",
      "         [0.7294, 0.7255, 0.7216,  ..., 0.6627, 0.6235, 0.5608]],\n",
      "\n",
      "        [[0.8392, 0.8353, 0.8392,  ..., 0.9333, 0.9373, 0.9412],\n",
      "         [0.8118, 0.8078, 0.8118,  ..., 0.9098, 0.9137, 0.9137],\n",
      "         [0.7961, 0.7882, 0.7961,  ..., 0.9020, 0.9059, 0.9059],\n",
      "         ...,\n",
      "         [0.6824, 0.6745, 0.6784,  ..., 0.7608, 0.7647, 0.7725],\n",
      "         [0.6784, 0.6706, 0.6667,  ..., 0.7529, 0.7569, 0.7569],\n",
      "         [0.6745, 0.6667, 0.6549,  ..., 0.6627, 0.6235, 0.5608]],\n",
      "\n",
      "        [[0.8039, 0.8000, 0.8118,  ..., 0.9333, 0.9373, 0.9373],\n",
      "         [0.7765, 0.7725, 0.7804,  ..., 0.9059, 0.9098, 0.9098],\n",
      "         [0.7569, 0.7529, 0.7608,  ..., 0.8980, 0.9020, 0.9020],\n",
      "         ...,\n",
      "         [0.6353, 0.6275, 0.6353,  ..., 0.7451, 0.7490, 0.7529],\n",
      "         [0.6235, 0.6157, 0.6157,  ..., 0.7373, 0.7373, 0.7373],\n",
      "         [0.6235, 0.6157, 0.6039,  ..., 0.6353, 0.5882, 0.5255]]])\n",
      "Train: tensor([3, 3, 3, 3, 3, 0, 0, 0, 0, 0, 2, 2, 2, 2, 2, 1, 1, 1, 1, 1])\n"
     ]
    },
    {
     "data": {
      "text/plain": [
       "<matplotlib.image.AxesImage at 0x7f4810112208>"
      ]
     },
     "execution_count": 10,
     "metadata": {},
     "output_type": "execute_result"
    },
    {
     "data": {
      "image/png": "[encoded data removed]",
      "text/plain": [
       "<Figure size 432x288 with 1 Axes>"
      ]
     },
     "metadata": {
      "needs_background": "light"
     },
     "output_type": "display_data"
    }
   ],
   "source": [
    "import matplotlib.pylab as plt\n",
    "from torchvision import utils\n",
    "X, y = tasksets.train.sample()\n",
    "print(X.shape)\n",
    "print(X[0])\n",
    "X.to(device)\n",
    "print(X[0])\n",
    "print(\"Train:\", y)\n",
    "grid = utils.make_grid(X, nrow=shots)\n",
    "plt.imshow(grid.numpy().transpose((1, 2, 0)))"
   ]
  },
  {
   "cell_type": "code",
   "execution_count": 51,
   "metadata": {},
   "outputs": [
    {
     "ename": "NameError",
     "evalue": "name 'tasksets' is not defined",
     "output_type": "error",
     "traceback": [
      "\u001b[0;31m---------------------------------------------------------------------------\u001b[0m",
      "\u001b[0;31mNameError\u001b[0m                                 Traceback (most recent call last)",
      "\u001b[0;32m<ipython-input-51-47d6b0e19c74>\u001b[0m in \u001b[0;36m<module>\u001b[0;34m\u001b[0m\n\u001b[0;32m----> 1\u001b[0;31m \u001b[0mX\u001b[0m\u001b[0;34m,\u001b[0m \u001b[0my\u001b[0m \u001b[0;34m=\u001b[0m \u001b[0mtasksets\u001b[0m\u001b[0;34m.\u001b[0m\u001b[0mvalidation\u001b[0m\u001b[0;34m.\u001b[0m\u001b[0msample\u001b[0m\u001b[0;34m(\u001b[0m\u001b[0;34m)\u001b[0m\u001b[0;34m\u001b[0m\u001b[0;34m\u001b[0m\u001b[0m\n\u001b[0m\u001b[1;32m      2\u001b[0m \u001b[0mprint\u001b[0m\u001b[0;34m(\u001b[0m\u001b[0;34m\"Validation:\"\u001b[0m\u001b[0;34m,\u001b[0m \u001b[0my\u001b[0m\u001b[0;34m)\u001b[0m\u001b[0;34m\u001b[0m\u001b[0;34m\u001b[0m\u001b[0m\n\u001b[1;32m      3\u001b[0m \u001b[0mgrid\u001b[0m \u001b[0;34m=\u001b[0m \u001b[0mutils\u001b[0m\u001b[0;34m.\u001b[0m\u001b[0mmake_grid\u001b[0m\u001b[0;34m(\u001b[0m\u001b[0mX\u001b[0m\u001b[0;34m,\u001b[0m \u001b[0mnrow\u001b[0m\u001b[0;34m=\u001b[0m\u001b[0mshots\u001b[0m\u001b[0;34m)\u001b[0m\u001b[0;34m\u001b[0m\u001b[0;34m\u001b[0m\u001b[0m\n\u001b[1;32m      4\u001b[0m \u001b[0mplt\u001b[0m\u001b[0;34m.\u001b[0m\u001b[0mimshow\u001b[0m\u001b[0;34m(\u001b[0m\u001b[0mgrid\u001b[0m\u001b[0;34m.\u001b[0m\u001b[0mnumpy\u001b[0m\u001b[0;34m(\u001b[0m\u001b[0;34m)\u001b[0m\u001b[0;34m.\u001b[0m\u001b[0mtranspose\u001b[0m\u001b[0;34m(\u001b[0m\u001b[0;34m(\u001b[0m\u001b[0;36m1\u001b[0m\u001b[0;34m,\u001b[0m \u001b[0;36m2\u001b[0m\u001b[0;34m,\u001b[0m \u001b[0;36m0\u001b[0m\u001b[0;34m)\u001b[0m\u001b[0;34m)\u001b[0m\u001b[0;34m)\u001b[0m\u001b[0;34m\u001b[0m\u001b[0;34m\u001b[0m\u001b[0m\n",
      "\u001b[0;31mNameError\u001b[0m: name 'tasksets' is not defined"
     ]
    }
   ],
   "source": [
    "X, y = tasksets.validation.sample()\n",
    "print(\"Validation:\", y)\n",
    "grid = utils.make_grid(X, nrow=shots)\n",
    "plt.imshow(grid.numpy().transpose((1, 2, 0)))"
   ]
  },
  {
   "cell_type": "code",
   "execution_count": 12,
   "metadata": {},
   "outputs": [
    {
     "name": "stdout",
     "output_type": "stream",
     "text": [
      "Test: tensor([0, 0, 0, 0, 0, 2, 2, 2, 2, 2, 1, 1, 1, 1, 1, 3, 3, 3, 3, 3])\n"
     ]
    },
    {
     "data": {
      "text/plain": [
       "<matplotlib.image.AxesImage at 0x7f9d805efac8>"
      ]
     },
     "execution_count": 12,
     "metadata": {},
     "output_type": "execute_result"
    },
    {
     "data": {
      "image/png": "[encoded data removed]",
      "text/plain": [
       "<Figure size 432x288 with 1 Axes>"
      ]
     },
     "metadata": {
      "needs_background": "light"
     },
     "output_type": "display_data"
    }
   ],
   "source": [
    "X, y = tasksets.test.sample()\n",
    "print(\"Test:\", y)\n",
    "grid = utils.make_grid(X, nrow=shots)\n",
    "plt.imshow(grid.numpy().transpose((1, 2, 0)))"
   ]
  },
  {
   "cell_type": "code",
   "execution_count": 12,
   "metadata": {},
   "outputs": [],
   "source": [
    "class default_weight_args:\n",
    "    def __init__(self):\n",
    "        super(default_weight_args, self).__init__()\n",
    "        self.fc_input_mean_mu = 0\n",
    "        self.fc_input_mean_sigma = 0.1\n",
    "        self.fc_input_mean_bias = 0.0001\n",
    "        self.fc_input_sigma_min = -12\n",
    "        self.fc_input_sigma_max = -2.2\n",
    "        self.fc_input_sigma_bias = 0.0001\n",
    "        self.conv_input_mean_mu = 0\n",
    "        self.conv_input_mean_sigma = 0.1\n",
    "        self.conv_input_mean_bias = 0.0001\n",
    "        self.conv_input_sigma_min = -12\n",
    "        self.conv_input_sigma_max = -2.2\n",
    "        self.conv_input_sigma_bias = 0.0001\n",
    "\n",
    "\n",
    "global_layer_default = default_weight_args()\n",
    "\n",
    "class VDP_FullyConnected(nn.Module):\n",
    "    \"\"\"\n",
    "    This class is for the instance creation of an Variational Density Propagation Fully Connected\n",
    "    Layer. This class contains the function :func:`__init__` for the initialization of the instance,\n",
    "    the function :func:`forward` for the forward propagation through the layer when called, and\n",
    "    the last function :func:`kl_loss_term` which is called in the loss function as part of the\n",
    "    regularization of the network.\n",
    "    \"\"\"\n",
    "\n",
    "    def __init__(self, in_features, out_features, bias=True, weight_args=global_layer_default,\n",
    "                 input_flag=False):\n",
    "        \"\"\"\n",
    "        :param in_features:     (Required)\n",
    "        :param out_features:    (Required)\n",
    "        :param bias:            (Default  True)\n",
    "        :param mean_mu:         (Default  0)\n",
    "        :param mean_sigma:      (Default  0.1)\n",
    "        :param sigma_min:       (Default -12)\n",
    "        :param sigma_max:       (Default -2.2)\n",
    "        :param mean_bias:       (Default  0.001)\n",
    "        :param sigma_bias:      (Default  0.001)\n",
    "        :param input_flag:      (Default  False)\n",
    "        \"\"\"\n",
    "        super(VDP_FullyConnected, self).__init__()\n",
    "        self.in_features = in_features\n",
    "        self.out_features = out_features\n",
    "        self.bias = bias\n",
    "        self.input_flag = input_flag\n",
    "\n",
    "        self.mean = nn.Linear(in_features, out_features, bias)\n",
    "        nn.init.normal_(self.mean.weight, mean=weight_args.fc_input_mean_mu, std=weight_args.fc_input_mean_sigma)\n",
    "        self.mean.bias.data.fill_(weight_args.fc_input_mean_bias)\n",
    "\n",
    "        self.sigma_weight = nn.Parameter(torch.zeros([1, out_features]), requires_grad=True)\n",
    "        nn.init.uniform_(self.sigma_weight, a=weight_args.fc_input_sigma_min, b=weight_args.fc_input_sigma_max)\n",
    "        self.sigma_bias = nn.Parameter(torch.ones([out_features]) * self.bias, requires_grad=True)\n",
    "\n",
    "    def forward(self, mu, sigma=0):\n",
    "        \"\"\"\n",
    "        Forward pass over the VDP 2D Fully Connected Layer\n",
    "\n",
    "        :param mu:      Data Mean     (Required)\n",
    "        :type  mu:      Float\n",
    "        :param sigma:   Data Sigma    (Required if input_flag=False)\n",
    "        :type  sigma:   Float\n",
    "        \"\"\"\n",
    "        if self.input_flag:\n",
    "            # Input Version\n",
    "            mu_f = self.mean(mu)\n",
    "\n",
    "            mu_pT_mu_p = torch.matmul(mu.unsqueeze(1), mu.unsqueeze(2)).squeeze(1)\n",
    "            if self.bias:\n",
    "                sigma_1 = torch.log1p(torch.exp(self.sigma_weight)).repeat(mu.shape[0], 1) * mu_pT_mu_p.repeat(1, self.out_features)\n",
    "            else:\n",
    "                sigma_1 = torch.log1p(torch.exp(self.sigma_weight)).repeat(mu.shape[0], 1) * mu_pT_mu_p.repeat(1, self.out_features)\n",
    "\n",
    "            sigma_out = torch.diag_embed(sigma_1, dim1=1) + torch.diag(self.sigma_bias)\n",
    "\n",
    "        else:\n",
    "            # Mu Weight * Mu in\n",
    "            mu_f = self.mean(mu)\n",
    "\n",
    "            # Mean Weight^2 * sigma in\n",
    "            muh_w = self.mean.weight.unsqueeze(0)\n",
    "            muhT_sigmab_mu = torch.matmul(torch.matmul(muh_w, sigma), muh_w.permute([0, 2, 1]))\n",
    "\n",
    "            tr_diag_sigma = torch.diagonal(sigma, dim1=1, dim2=2).sum(1).unsqueeze(1)\n",
    "\n",
    "            mu_pT_mu_p = torch.matmul(mu.unsqueeze(1), mu.unsqueeze(2)).squeeze(1)\n",
    "\n",
    "            # tr(Sigma Weights * Sigma In)\n",
    "            # Mu in ^2 * Sigma Weights\n",
    "            if self.bias:\n",
    "                sigma_weight_out = torch.log1p(torch.exp(self.sigma_weight)).repeat(mu.shape[0], 1) * (tr_diag_sigma.repeat(1, self.out_features) + mu_pT_mu_p.repeat(1, self.out_features))\n",
    "            else:\n",
    "                sigma_weight_out = torch.log1p(torch.exp(self.sigma_weight)).repeat(mu.shape[0], 1) * (tr_diag_sigma.repeat(1, self.out_features) + mu_pT_mu_p.repeat(1, self.out_features))\n",
    "\n",
    "            diag_sigma_weight_out = torch.diag_embed(sigma_weight_out, dim1=1)\n",
    "\n",
    "            # tr(Sigma Weights * Sigma In) + Mean Weight^2 * sigma in + Mu in ^2 * Sigma Weights\n",
    "            sigma_out = muhT_sigmab_mu + diag_sigma_weight_out + torch.diag(self.sigma_bias)\n",
    "\n",
    "        return mu_f, sigma_out\n",
    "\n",
    "    def kl_loss_term(self):\n",
    "        \"\"\"\n",
    "        KL Loss term for the loss function\n",
    "        \"\"\"\n",
    "        f_s = torch.log1p(torch.exp(self.sigma_weight))\n",
    "\n",
    "        kl_loss = -0.5 * torch.mean((self.in_features * torch.log(f_s)) +\n",
    "                                      self.in_features -\n",
    "                                      torch.norm(self.mean.weight)**2 -\n",
    "                                      (self.in_features * f_s))\n",
    "        return kl_loss\n",
    "\n",
    "\n",
    "class VDP_Softmax(nn.Module):\n",
    "    \"\"\"\n",
    "    This class is for the instance creation of an Variational Density Propagation Softmax Activation.\n",
    "    This class contains the function :func:`__init__` for the initialization of the instance\n",
    "    and the function :func:`forward` for the forward propagation through the layer when called\n",
    "    \"\"\"\n",
    "\n",
    "    def __init__(self, dim=1):\n",
    "        \"\"\"\n",
    "        :param dim:     (Default  1)\n",
    "        \"\"\"\n",
    "        super(VDP_Softmax, self).__init__()\n",
    "        self.softmax = nn.Softmax(dim)\n",
    "\n",
    "    def forward(self, mu, sigma):\n",
    "        \"\"\"\n",
    "        Forward pass over the VDP 2D Softmax Layer\n",
    "\n",
    "        :param mu:      Data Mean     (Required)\n",
    "        :type  mu:      Float\n",
    "        :param sigma:   Data Sigma    (Required)\n",
    "        :type  sigma:   Float\n",
    "        \"\"\"\n",
    "        mu_y = self.softmax(mu)\n",
    "\n",
    "        grad_f1 = torch.bmm(mu_y.unsqueeze(2), mu_y.unsqueeze(1))\n",
    "        diag_f = torch.diag_embed(mu_y, dim1=1)\n",
    "        grad_soft = diag_f - grad_f1\n",
    "        sigma_y = torch.matmul(grad_soft, torch.matmul(sigma, grad_soft.permute(0, 2, 1)))\n",
    "        return mu_y, sigma_y\n",
    "    \n"
   ]
  },
  {
   "cell_type": "code",
   "execution_count": 45,
   "metadata": {},
   "outputs": [],
   "source": [
    "class Identity(nn.Module):\n",
    "    def __init__(self):\n",
    "        super(Identity, self).__init__()\n",
    "    def forward(self, x):\n",
    "        return x"
   ]
  },
  {
   "cell_type": "code",
   "execution_count": 84,
   "metadata": {},
   "outputs": [],
   "source": [
    "from torchsummary import torchsummary\n",
    "class VDP_MAML(nn.Module):\n",
    "    def __init__(self, ways):\n",
    "        super(VDP_MAML, self).__init__()\n",
    "        self.tau = 0.002\n",
    "        self.clamp = 1000\n",
    "        self.var_sup = 0.001\n",
    "        self.model = resnet18(pretrained=True).to(device)\n",
    "        for param in model.parameters():\n",
    "            param.requires_grad = False\n",
    "        #     print(param.name)\n",
    "#         self.model.fc = nn.Linear(num_ftrs, ways).to(device)\n",
    "        self.vdp_input_fc = VDP_FullyConnected(in_features=self.model.fc.in_features, out_features=64,\n",
    "                                        input_flag=True).to(device)\n",
    "        self.vdp_fc = VDP_FullyConnected(in_features=64, out_features=ways,\n",
    "                                        input_flag=False).to(device)\n",
    "        self.model.fc = Identity()#\n",
    "#         torchsummary.summary(self.model, input_size= (3, 64, 64))\n",
    "        self.vdp_softmax = VDP_Softmax(1).to(device)\n",
    "    \n",
    "    def forward(self, x):\n",
    "        x = self.model(x)\n",
    "#         print(\"X:\", x.shape)\n",
    "        mean, sigma = self.vdp_input_fc(x)\n",
    "        mean, sigma = self.vdp_fc(mu=mean, sigma=sigma)\n",
    "        mean, sigma = self.vdp_softmax(mean, sigma)\n",
    "        \n",
    "        return mean, sigma\n",
    "    \n",
    "    def nll_gaussian(self, y_pred_mean, y_pred_sd, y_test):\n",
    "        NS = torch.diag(\n",
    "            torch.ones(list(self.children())[-2].out_features, device=y_pred_sd.device) * torch.tensor(self.var_sup,\n",
    "                                                                                                       device=y_pred_sd.device))\n",
    "        y_pred_sd_inv = torch.inverse(y_pred_sd + NS)\n",
    "        mu_ = y_pred_mean - y_test\n",
    "        mu_sigma = torch.bmm(mu_.unsqueeze(1), y_pred_sd_inv)\n",
    "        ms = (torch.bmm(mu_sigma, mu_.unsqueeze(2)).squeeze(1) +\n",
    "              (torch.slogdet(y_pred_sd + NS)[1]).unsqueeze(1)).mean()\n",
    "        return ms\n",
    "\n",
    "    def batch_loss(self, output_mean, output_sigma, label):\n",
    "        output_sigma_clamp = torch.clamp(output_sigma, -self.clamp, self.clamp)\n",
    "        neg_log_likelihood = self.nll_gaussian(output_mean, output_sigma_clamp, label)\n",
    "        loss_value = neg_log_likelihood + (self.tau * self.vdp_input_fc.kl_loss_term() +\n",
    "                                           self.tau * self.vdp_fc.kl_loss_term())\n",
    "        return loss_value"
   ]
  },
  {
   "cell_type": "code",
   "execution_count": 85,
   "metadata": {},
   "outputs": [
    {
     "name": "stdout",
     "output_type": "stream",
     "text": [
      "Mean: tensor([[0.1086, 0.0008, 0.3191, 0.1524, 0.4191]], device='cuda:0',\n",
      "       grad_fn=<SoftmaxBackward>)\n",
      "Sigma: torch.Size([1, 5, 5])\n"
     ]
    }
   ],
   "source": [
    "# print(VDP_MAML(ways=5)(torch.rand((1,3,64,64)).to(device)))\n",
    "mean, sigma = VDP_MAML(ways=5)(torch.rand((1,3,64,64)).to(device))\n",
    "print(\"Mean:\", mean)\n",
    "print(\"Sigma:\", sigma.shape)\n",
    "model = VDP_MAML(ways=5)"
   ]
  },
  {
   "cell_type": "code",
   "execution_count": 89,
   "metadata": {},
   "outputs": [
    {
     "ename": "NameError",
     "evalue": "name 'train_loader' is not defined",
     "output_type": "error",
     "traceback": [
      "\u001b[0;31m---------------------------------------------------------------------------\u001b[0m",
      "\u001b[0;31mNameError\u001b[0m                                 Traceback (most recent call last)",
      "\u001b[0;32m<ipython-input-89-97d386c3ac86>\u001b[0m in \u001b[0;36m<module>\u001b[0;34m\u001b[0m\n\u001b[1;32m      8\u001b[0m     \u001b[0mmodel\u001b[0m\u001b[0;34m.\u001b[0m\u001b[0mtrain\u001b[0m\u001b[0;34m(\u001b[0m\u001b[0;34m)\u001b[0m\u001b[0;34m\u001b[0m\u001b[0;34m\u001b[0m\u001b[0m\n\u001b[1;32m      9\u001b[0m \u001b[0;31m#     print('| Epoch {:3d}, '.format(i_ep+prev_epoch), end='')\u001b[0m\u001b[0;34m\u001b[0m\u001b[0;34m\u001b[0m\u001b[0;34m\u001b[0m\u001b[0m\n\u001b[0;32m---> 10\u001b[0;31m     \u001b[0;32mfor\u001b[0m \u001b[0midx\u001b[0m\u001b[0;34m,\u001b[0m \u001b[0;34m(\u001b[0m\u001b[0mdata\u001b[0m\u001b[0;34m,\u001b[0m \u001b[0mtargets\u001b[0m\u001b[0;34m)\u001b[0m \u001b[0;32min\u001b[0m \u001b[0menumerate\u001b[0m\u001b[0;34m(\u001b[0m\u001b[0mtrain_loader\u001b[0m\u001b[0;34m)\u001b[0m\u001b[0;34m:\u001b[0m\u001b[0;34m\u001b[0m\u001b[0;34m\u001b[0m\u001b[0m\n\u001b[0m\u001b[1;32m     11\u001b[0m         \u001b[0moptim\u001b[0m\u001b[0;34m.\u001b[0m\u001b[0mzero_grad\u001b[0m\u001b[0;34m(\u001b[0m\u001b[0;34m)\u001b[0m\u001b[0;34m\u001b[0m\u001b[0;34m\u001b[0m\u001b[0m\n\u001b[1;32m     12\u001b[0m         \u001b[0mdata\u001b[0m\u001b[0;34m,\u001b[0m \u001b[0mtargets\u001b[0m \u001b[0;34m=\u001b[0m \u001b[0mdata\u001b[0m\u001b[0;34m.\u001b[0m\u001b[0mto\u001b[0m\u001b[0;34m(\u001b[0m\u001b[0margs\u001b[0m\u001b[0;34m.\u001b[0m\u001b[0mdevices\u001b[0m\u001b[0;34m)\u001b[0m\u001b[0;34m,\u001b[0m \u001b[0mtargets\u001b[0m\u001b[0;34m.\u001b[0m\u001b[0mto\u001b[0m\u001b[0;34m(\u001b[0m\u001b[0margs\u001b[0m\u001b[0;34m.\u001b[0m\u001b[0mdevices\u001b[0m\u001b[0;34m)\u001b[0m\u001b[0;34m\u001b[0m\u001b[0;34m\u001b[0m\u001b[0m\n",
      "\u001b[0;31mNameError\u001b[0m: name 'train_loader' is not defined"
     ]
    }
   ],
   "source": [
    "optim = torch.optim.Adam(model.parameters(), lr=0.001)\n",
    "# sched = torch.optim.lr_scheduler.CosineAnnealingLR(optim, T_max=100)\n",
    "samples = 10\n",
    "for i_ep in range(10):\n",
    "    total_loss = 0\n",
    "    total_acc = 0\n",
    "    total_num = 0\n",
    "    model.train()\n",
    "#     print('| Epoch {:3d}, '.format(i_ep+prev_epoch), end='')\n",
    "    for idx, (data, targets) in enumerate(train_loader):\n",
    "        optim.zero_grad()\n",
    "        data, targets = data.to(args.devices), targets.to(args.devices)\n",
    "\n",
    "        output = model(data, sample=False)\n",
    "        _, pred = output.max(1, keepdim=True)\n",
    "\n",
    "        lps, lvps, predictions = [], [], []\n",
    "        for i in range(10):\n",
    "            predictions.append(model(data))\n",
    "            lp, lv = logs(model)\n",
    "            lps.append(lp)\n",
    "            lvps.append(lv)\n",
    "\n",
    "        loss = model.batch_loss(predictions, lps, lvps, len(train_loader), targets)\n",
    "\n",
    "        total_loss += loss.detach().cpu().numpy()\n",
    "        total_acc += pred.eq(targets.view_as(pred)).sum().item()\n",
    "        total_num += len(targets)\n",
    "\n",
    "        loss.backward(retain_graph=True)\n",
    "        optim.step()\n",
    "\n",
    "    train_loss = total_loss / total_num\n",
    "    train_acc = total_acc / total_num\n",
    "\n",
    "    print(' | Train: loss={:8.4f}, acc={:5.1f}% | '.format(np.round(train_loss, 4), 100 * train_acc), end='')\n",
    "\n",
    "    valid_loss, valid_acc = eval(args, model, test_loader)\n",
    "    print('Valid: acc={:5.1f}% | '.format(100 * valid_acc), end='')\n",
    "\n",
    "    print('')"
   ]
  },
  {
   "cell_type": "code",
   "execution_count": null,
   "metadata": {},
   "outputs": [],
   "source": []
  },
  {
   "cell_type": "code",
   "execution_count": 7,
   "metadata": {
    "scrolled": true
   },
   "outputs": [
    {
     "ename": "NameError",
     "evalue": "name 'VDP_FullyConnected' is not defined",
     "output_type": "error",
     "traceback": [
      "\u001b[0;31m---------------------------------------------------------------------------\u001b[0m",
      "\u001b[0;31mNameError\u001b[0m                                 Traceback (most recent call last)",
      "\u001b[0;32m<ipython-input-7-b2b3896f1a6a>\u001b[0m in \u001b[0;36m<module>\u001b[0;34m\u001b[0m\n\u001b[1;32m      9\u001b[0m \u001b[0;31m# model.fc = nn.Linear(num_ftrs, ways).to(device)\u001b[0m\u001b[0;34m\u001b[0m\u001b[0;34m\u001b[0m\u001b[0;34m\u001b[0m\u001b[0m\n\u001b[1;32m     10\u001b[0m \u001b[0;31m# model.fc = VDP_Softmax(VDP_FullyConnected(in_features=num_ftrs, out_features=ways)).to(device)\u001b[0m\u001b[0;34m\u001b[0m\u001b[0;34m\u001b[0m\u001b[0;34m\u001b[0m\u001b[0m\n\u001b[0;32m---> 11\u001b[0;31m \u001b[0mmean\u001b[0m\u001b[0;34m,\u001b[0m \u001b[0msigma\u001b[0m \u001b[0;34m=\u001b[0m \u001b[0mVDP_FullyConnected\u001b[0m\u001b[0;34m(\u001b[0m\u001b[0min_features\u001b[0m\u001b[0;34m=\u001b[0m\u001b[0mnum_ftrs\u001b[0m\u001b[0;34m,\u001b[0m \u001b[0mout_features\u001b[0m\u001b[0;34m=\u001b[0m\u001b[0mways\u001b[0m\u001b[0;34m)\u001b[0m\u001b[0;34m\u001b[0m\u001b[0;34m\u001b[0m\u001b[0m\n\u001b[0m\u001b[1;32m     12\u001b[0m \u001b[0mfc1\u001b[0m \u001b[0;34m=\u001b[0m \u001b[0mVDP_Softmax\u001b[0m\u001b[0;34m(\u001b[0m\u001b[0;34m)\u001b[0m\u001b[0;34m\u001b[0m\u001b[0;34m\u001b[0m\u001b[0m\n\u001b[1;32m     13\u001b[0m \u001b[0mmodel\u001b[0m\u001b[0;34m.\u001b[0m\u001b[0mfc\u001b[0m \u001b[0;34m=\u001b[0m \u001b[0mVDP_Softmax\u001b[0m\u001b[0;34m(\u001b[0m\u001b[0mVDP_FullyConnected\u001b[0m\u001b[0;34m(\u001b[0m\u001b[0min_features\u001b[0m\u001b[0;34m=\u001b[0m\u001b[0mnum_ftrs\u001b[0m\u001b[0;34m,\u001b[0m \u001b[0mout_features\u001b[0m\u001b[0;34m=\u001b[0m\u001b[0mways\u001b[0m\u001b[0;34m)\u001b[0m\u001b[0;34m)\u001b[0m\u001b[0;34m.\u001b[0m\u001b[0mto\u001b[0m\u001b[0;34m(\u001b[0m\u001b[0mdevice\u001b[0m\u001b[0;34m)\u001b[0m\u001b[0;34m\u001b[0m\u001b[0;34m\u001b[0m\u001b[0m\n",
      "\u001b[0;31mNameError\u001b[0m: name 'VDP_FullyConnected' is not defined"
     ]
    }
   ],
   "source": [
    "from torchsummary import torchsummary\n",
    "model = resnet18(pretrained=True).to(device)\n",
    "for param in model.parameters():\n",
    "    param.requires_grad = False\n",
    "#     print(param.name)\n",
    "num_ftrs = model.fc.in_features\n",
    "\n",
    "num_ftrs \n",
    "# model.fc = nn.Linear(num_ftrs, ways).to(device)\n",
    "# model.fc = VDP_Softmax(VDP_FullyConnected(in_features=num_ftrs, out_features=ways)).to(device)\n",
    "mean, sigma = VDP_FullyConnected(in_features=num_ftrs, out_features=ways)\n",
    "fc1 = VDP_Softmax()\n",
    "model.fc = VDP_Softmax(VDP_FullyConnected(in_features=num_ftrs, out_features=ways)).to(device)\n",
    "# mu, sigma = self.softmax.forward(mu, sigma)\n",
    "\n",
    "print(model(torch.rand((1,3,64,64)).to(device)))\n",
    "# torchsummary.summary(model, input_size= (3, 64, 64))"
   ]
  },
  {
   "cell_type": "code",
   "execution_count": null,
   "metadata": {},
   "outputs": [],
   "source": []
  },
  {
   "cell_type": "code",
   "execution_count": 155,
   "metadata": {},
   "outputs": [
    {
     "ename": "TypeError",
     "evalue": "__init__() got an unexpected keyword argument 'meta_model'",
     "output_type": "error",
     "traceback": [
      "\u001b[0;31m---------------------------------------------------------------------------\u001b[0m",
      "\u001b[0;31mTypeError\u001b[0m                                 Traceback (most recent call last)",
      "\u001b[0;32m<ipython-input-155-c66069de19ec>\u001b[0m in \u001b[0;36m<module>\u001b[0;34m\u001b[0m\n\u001b[1;32m     33\u001b[0m         \u001b[0mprint\u001b[0m\u001b[0;34m(\u001b[0m\u001b[0;34m\"Cloned\"\u001b[0m\u001b[0;34m)\u001b[0m\u001b[0;34m\u001b[0m\u001b[0;34m\u001b[0m\u001b[0m\n\u001b[1;32m     34\u001b[0m \u001b[0;34m\u001b[0m\u001b[0m\n\u001b[0;32m---> 35\u001b[0;31m \u001b[0mmeta_learner\u001b[0m \u001b[0;34m=\u001b[0m \u001b[0mMAML\u001b[0m\u001b[0;34m(\u001b[0m\u001b[0mmeta_model\u001b[0m\u001b[0;34m=\u001b[0m\u001b[0mnn\u001b[0m\u001b[0;34m.\u001b[0m\u001b[0mModule\u001b[0m\u001b[0;34m(\u001b[0m\u001b[0;34m)\u001b[0m\u001b[0;34m,\u001b[0m \u001b[0mmeta_optimizer\u001b[0m\u001b[0;34m=\u001b[0m\u001b[0;32mNone\u001b[0m\u001b[0;34m)\u001b[0m\u001b[0;34m\u001b[0m\u001b[0;34m\u001b[0m\u001b[0m\n\u001b[0m\u001b[1;32m     36\u001b[0m \u001b[0;31m# adapted_learner = AdaptedLeaner()\u001b[0m\u001b[0;34m\u001b[0m\u001b[0;34m\u001b[0m\u001b[0;34m\u001b[0m\u001b[0m\n\u001b[1;32m     37\u001b[0m \u001b[0;31m# print(maml.adapt)\u001b[0m\u001b[0;34m\u001b[0m\u001b[0;34m\u001b[0m\u001b[0;34m\u001b[0m\u001b[0m\n",
      "\u001b[0;31mTypeError\u001b[0m: __init__() got an unexpected keyword argument 'meta_model'"
     ]
    }
   ],
   "source": [
    "from learn2learn.algorithms.base_learner import BaseLearner\n",
    "\n",
    "class MetaLearner(nn.Module):\n",
    "    meta_model = None\n",
    "    meta_optimizer = 0\n",
    "    def __init__(self, meta_model, meta_optimizer):\n",
    "        super(MetaLearner, self).__init__()\n",
    "        MetaLearner.meta_model = model\n",
    "        MetaLearner.meta_optimizer = meta_optimizer\n",
    "        \n",
    "#     def forward(self, *args, **kwargs):\n",
    "#         return self.module(*args, **kwargs)\n",
    "    \n",
    "    def adapt():\n",
    "        print(\"Not applicable to Metalearner\")\n",
    "        \n",
    "    def clone():\n",
    "        print(\"Not applicable to Metalearner\")\n",
    "    \n",
    "    \n",
    "class MAML(MetaLearner):\n",
    "    def __init__(self, model, meta_optimizer):\n",
    "        super(MAML, self).__init__()\n",
    "#         print(\"Constructor\")\n",
    "#         self.model = model\n",
    "    \n",
    "    def adapt(self):\n",
    "        super.adapt(self)\n",
    "        print(\"Adapted\")\n",
    "        \n",
    "    def clone(self):\n",
    "        super.clone(self)\n",
    "        print(\"Cloned\")\n",
    "\n",
    "meta_model = nn.Linear(in_features=10, out_features=2, bias=True)\n",
    "meta_optimizer = optim.SGD(meta_model.parameters(), lr=0.001)\n",
    "\n",
    "meta_learner = MAML(meta_model=nn.Module(), meta_optimizer=None)\n",
    "# adapted_learner = AdaptedLeaner()\n",
    "# print(maml.adapt)"
   ]
  },
  {
   "cell_type": "code",
   "execution_count": null,
   "metadata": {},
   "outputs": [],
   "source": []
  },
  {
   "cell_type": "code",
   "execution_count": 95,
   "metadata": {},
   "outputs": [
    {
     "name": "stdout",
     "output_type": "stream",
     "text": [
      "Base constructor\n",
      "Num Count: -10\n",
      "Base constructor\n",
      "Adapted contructor\n",
      "increment\n",
      "Base constructor\n",
      "Adapted contructor\n",
      "increment\n",
      "Base constructor\n",
      "Adapted contructor\n",
      "increment\n",
      "Num Count: -9\n"
     ]
    }
   ],
   "source": [
    "class Base(nn.Module):\n",
    "    num = 0\n",
    "    def __init__(self):\n",
    "        super(Base, self).__init__()\n",
    "        print(\"Base constructor\")\n",
    "        Base.num = -10\n",
    "        \n",
    "    def increment(self):\n",
    "        print(\"increment\")\n",
    "        Base.num += 1\n",
    "        \n",
    "    def baseUpdate(self):\n",
    "        print(\"BaseUpdate\")\n",
    "    \n",
    "    def adapt(self):\n",
    "        print(\"Not applicable to base\")\n",
    "    \n",
    "    def count(self):\n",
    "        print(\"Num Count:\", self.num)\n",
    "    \n",
    "    \n",
    "class Adapted(Base):\n",
    "    def __init__(self):\n",
    "        super(Adapted, self).__init__()\n",
    "        print(\"Adapted contructor\")\n",
    "        Base.increment(self)\n",
    "    \n",
    "    def baseUpdate(self):\n",
    "        Base.baseUpdate(self)\n",
    "        print(\"Adapted calling base method\")\n",
    "    \n",
    "    def adapt(self):\n",
    "        Base.adapt(self)\n",
    "        print(\"Adapt parameters here\")\n",
    "    \n",
    "        \n",
    "base = Base()\n",
    "base.count()\n",
    "adapt = Adapted()\n",
    "adapt = Adapted()\n",
    "adapt = Adapted()\n",
    "adapt.count()"
   ]
  },
  {
   "cell_type": "code",
   "execution_count": 96,
   "metadata": {},
   "outputs": [
    {
     "name": "stdout",
     "output_type": "stream",
     "text": [
      "BaseUpdate\n",
      "Not applicable to base\n"
     ]
    }
   ],
   "source": [
    "base.baseUpdate()\n",
    "base.adapt()"
   ]
  },
  {
   "cell_type": "code",
   "execution_count": 97,
   "metadata": {},
   "outputs": [
    {
     "name": "stdout",
     "output_type": "stream",
     "text": [
      "BaseUpdate\n",
      "Adapted calling base method\n"
     ]
    }
   ],
   "source": [
    "adapt.baseUpdate()"
   ]
  },
  {
   "cell_type": "code",
   "execution_count": 98,
   "metadata": {},
   "outputs": [
    {
     "name": "stdout",
     "output_type": "stream",
     "text": [
      "Not applicable to base\n",
      "Adapt parameters here\n"
     ]
    }
   ],
   "source": [
    "adapt.adapt()"
   ]
  },
  {
   "cell_type": "code",
   "execution_count": 136,
   "metadata": {},
   "outputs": [
    {
     "name": "stdout",
     "output_type": "stream",
     "text": [
      "Constructed\n",
      "[Parameter containing:\n",
      "tensor([3232.]), Parameter containing:\n",
      "tensor([54321.], requires_grad=True)]\n"
     ]
    }
   ],
   "source": [
    "## Internal Parameters\n",
    "class Param(nn.Module):\n",
    "#     T = torch.rand((2,2), requires_grad=True)\n",
    "#     P1 = nn.Parameter(torch.tensor(0.55, requires_grad=True))\n",
    "#     P2 = nn.Parameter(torch.tensor([[0,0],[1,1]], requires_grad=True, dtype=torch.float32))\n",
    "    def __init__(self):\n",
    "        super(Param,self).__init__()\n",
    "        print(\"Constructed\")\n",
    "        self.PP = nn.Parameter(torch.tensor(0.5), requires_grad=False)\n",
    "        self.PP.data = torch.FloatTensor([3232])\n",
    "        self.PP2 = nn.Parameter(torch.tensor([[0,0],[1,1]], requires_grad=True, dtype=torch.float32))\n",
    "        self.PP2.data = torch.FloatTensor([54321])\n",
    "        \n",
    "# p = Param()    \n",
    "# print(p.PP)\n",
    "# print(p.P)\n",
    "print(list(Param().parameters()))\n",
    "# print((Param.P))\n"
   ]
  },
  {
   "cell_type": "code",
   "execution_count": 8,
   "metadata": {},
   "outputs": [
    {
     "name": "stdout",
     "output_type": "stream",
     "text": [
      "Constructed\n",
      "[Parameter containing:\n",
      "tensor([[0., 0.],\n",
      "        [1., 1.]], requires_grad=True)]\n"
     ]
    }
   ],
   "source": [
    "print([p for p in Param().parameters() if p.requires_grad])"
   ]
  },
  {
   "cell_type": "code",
   "execution_count": 10,
   "metadata": {},
   "outputs": [
    {
     "name": "stdout",
     "output_type": "stream",
     "text": [
      "Constructed\n",
      "{'PP': Parameter containing:\n",
      "tensor(0.5000), 'PP2': Parameter containing:\n",
      "tensor([[0., 0.],\n",
      "        [1., 1.]], requires_grad=True)}\n"
     ]
    }
   ],
   "source": [
    "print(dict(Param().named_parameters()))"
   ]
  },
  {
   "cell_type": "code",
   "execution_count": 11,
   "metadata": {},
   "outputs": [
    {
     "name": "stdout",
     "output_type": "stream",
     "text": [
      "Constructed\n",
      "[Parameter containing:\n",
      "tensor(0.5000), Parameter containing:\n",
      "tensor([[0., 0.],\n",
      "        [1., 1.]], requires_grad=True)]\n"
     ]
    }
   ],
   "source": [
    "print(list(Param().parameters()))"
   ]
  },
  {
   "cell_type": "code",
   "execution_count": 13,
   "metadata": {},
   "outputs": [
    {
     "name": "stdout",
     "output_type": "stream",
     "text": [
      "Constructed\n",
      "dict_keys(['PP', 'PP2'])\n"
     ]
    }
   ],
   "source": [
    "print(dict(Param().named_parameters()).keys())"
   ]
  },
  {
   "cell_type": "code",
   "execution_count": 24,
   "metadata": {},
   "outputs": [
    {
     "name": "stdout",
     "output_type": "stream",
     "text": [
      "dict_keys(['conv1.weight', 'bn1.weight', 'bn1.bias', 'layer1.0.conv1.weight', 'layer1.0.bn1.weight', 'layer1.0.bn1.bias', 'layer1.0.conv2.weight', 'layer1.0.bn2.weight', 'layer1.0.bn2.bias', 'layer1.1.conv1.weight', 'layer1.1.bn1.weight', 'layer1.1.bn1.bias', 'layer1.1.conv2.weight', 'layer1.1.bn2.weight', 'layer1.1.bn2.bias', 'layer2.0.conv1.weight', 'layer2.0.bn1.weight', 'layer2.0.bn1.bias', 'layer2.0.conv2.weight', 'layer2.0.bn2.weight', 'layer2.0.bn2.bias', 'layer2.0.downsample.0.weight', 'layer2.0.downsample.1.weight', 'layer2.0.downsample.1.bias', 'layer2.1.conv1.weight', 'layer2.1.bn1.weight', 'layer2.1.bn1.bias', 'layer2.1.conv2.weight', 'layer2.1.bn2.weight', 'layer2.1.bn2.bias', 'layer3.0.conv1.weight', 'layer3.0.bn1.weight', 'layer3.0.bn1.bias', 'layer3.0.conv2.weight', 'layer3.0.bn2.weight', 'layer3.0.bn2.bias', 'layer3.0.downsample.0.weight', 'layer3.0.downsample.1.weight', 'layer3.0.downsample.1.bias', 'layer3.1.conv1.weight', 'layer3.1.bn1.weight', 'layer3.1.bn1.bias', 'layer3.1.conv2.weight', 'layer3.1.bn2.weight', 'layer3.1.bn2.bias', 'layer4.0.conv1.weight', 'layer4.0.bn1.weight', 'layer4.0.bn1.bias', 'layer4.0.conv2.weight', 'layer4.0.bn2.weight', 'layer4.0.bn2.bias', 'layer4.0.downsample.0.weight', 'layer4.0.downsample.1.weight', 'layer4.0.downsample.1.bias', 'layer4.1.conv1.weight', 'layer4.1.bn1.weight', 'layer4.1.bn1.bias', 'layer4.1.conv2.weight', 'layer4.1.bn2.weight', 'layer4.1.bn2.bias', 'fc.weight', 'fc.bias'])\n"
     ]
    }
   ],
   "source": [
    "print(dict(model.named_parameters()).keys())"
   ]
  },
  {
   "cell_type": "code",
   "execution_count": 147,
   "metadata": {},
   "outputs": [],
   "source": [
    "dc_model = copy.deepcopy(model)"
   ]
  },
  {
   "cell_type": "code",
   "execution_count": 148,
   "metadata": {
    "scrolled": true
   },
   "outputs": [
    {
     "name": "stdout",
     "output_type": "stream",
     "text": [
      "ResNet(\n",
      "  (conv1): Conv2d(3, 64, kernel_size=(7, 7), stride=(2, 2), padding=(3, 3), bias=False)\n",
      "  (bn1): BatchNorm2d(64, eps=1e-05, momentum=0.1, affine=True, track_running_stats=True)\n",
      "  (relu): ReLU(inplace=True)\n",
      "  (maxpool): MaxPool2d(kernel_size=3, stride=2, padding=1, dilation=1, ceil_mode=False)\n",
      "  (layer1): Sequential(\n",
      "    (0): BasicBlock(\n",
      "      (conv1): Conv2d(64, 64, kernel_size=(3, 3), stride=(1, 1), padding=(1, 1), bias=False)\n",
      "      (bn1): BatchNorm2d(64, eps=1e-05, momentum=0.1, affine=True, track_running_stats=True)\n",
      "      (relu): ReLU(inplace=True)\n",
      "      (conv2): Conv2d(64, 64, kernel_size=(3, 3), stride=(1, 1), padding=(1, 1), bias=False)\n",
      "      (bn2): BatchNorm2d(64, eps=1e-05, momentum=0.1, affine=True, track_running_stats=True)\n",
      "    )\n",
      "    (1): BasicBlock(\n",
      "      (conv1): Conv2d(64, 64, kernel_size=(3, 3), stride=(1, 1), padding=(1, 1), bias=False)\n",
      "      (bn1): BatchNorm2d(64, eps=1e-05, momentum=0.1, affine=True, track_running_stats=True)\n",
      "      (relu): ReLU(inplace=True)\n",
      "      (conv2): Conv2d(64, 64, kernel_size=(3, 3), stride=(1, 1), padding=(1, 1), bias=False)\n",
      "      (bn2): BatchNorm2d(64, eps=1e-05, momentum=0.1, affine=True, track_running_stats=True)\n",
      "    )\n",
      "  )\n",
      "  (layer2): Sequential(\n",
      "    (0): BasicBlock(\n",
      "      (conv1): Conv2d(64, 128, kernel_size=(3, 3), stride=(2, 2), padding=(1, 1), bias=False)\n",
      "      (bn1): BatchNorm2d(128, eps=1e-05, momentum=0.1, affine=True, track_running_stats=True)\n",
      "      (relu): ReLU(inplace=True)\n",
      "      (conv2): Conv2d(128, 128, kernel_size=(3, 3), stride=(1, 1), padding=(1, 1), bias=False)\n",
      "      (bn2): BatchNorm2d(128, eps=1e-05, momentum=0.1, affine=True, track_running_stats=True)\n",
      "      (downsample): Sequential(\n",
      "        (0): Conv2d(64, 128, kernel_size=(1, 1), stride=(2, 2), bias=False)\n",
      "        (1): BatchNorm2d(128, eps=1e-05, momentum=0.1, affine=True, track_running_stats=True)\n",
      "      )\n",
      "    )\n",
      "    (1): BasicBlock(\n",
      "      (conv1): Conv2d(128, 128, kernel_size=(3, 3), stride=(1, 1), padding=(1, 1), bias=False)\n",
      "      (bn1): BatchNorm2d(128, eps=1e-05, momentum=0.1, affine=True, track_running_stats=True)\n",
      "      (relu): ReLU(inplace=True)\n",
      "      (conv2): Conv2d(128, 128, kernel_size=(3, 3), stride=(1, 1), padding=(1, 1), bias=False)\n",
      "      (bn2): BatchNorm2d(128, eps=1e-05, momentum=0.1, affine=True, track_running_stats=True)\n",
      "    )\n",
      "  )\n",
      "  (layer3): Sequential(\n",
      "    (0): BasicBlock(\n",
      "      (conv1): Conv2d(128, 256, kernel_size=(3, 3), stride=(2, 2), padding=(1, 1), bias=False)\n",
      "      (bn1): BatchNorm2d(256, eps=1e-05, momentum=0.1, affine=True, track_running_stats=True)\n",
      "      (relu): ReLU(inplace=True)\n",
      "      (conv2): Conv2d(256, 256, kernel_size=(3, 3), stride=(1, 1), padding=(1, 1), bias=False)\n",
      "      (bn2): BatchNorm2d(256, eps=1e-05, momentum=0.1, affine=True, track_running_stats=True)\n",
      "      (downsample): Sequential(\n",
      "        (0): Conv2d(128, 256, kernel_size=(1, 1), stride=(2, 2), bias=False)\n",
      "        (1): BatchNorm2d(256, eps=1e-05, momentum=0.1, affine=True, track_running_stats=True)\n",
      "      )\n",
      "    )\n",
      "    (1): BasicBlock(\n",
      "      (conv1): Conv2d(256, 256, kernel_size=(3, 3), stride=(1, 1), padding=(1, 1), bias=False)\n",
      "      (bn1): BatchNorm2d(256, eps=1e-05, momentum=0.1, affine=True, track_running_stats=True)\n",
      "      (relu): ReLU(inplace=True)\n",
      "      (conv2): Conv2d(256, 256, kernel_size=(3, 3), stride=(1, 1), padding=(1, 1), bias=False)\n",
      "      (bn2): BatchNorm2d(256, eps=1e-05, momentum=0.1, affine=True, track_running_stats=True)\n",
      "    )\n",
      "  )\n",
      "  (layer4): Sequential(\n",
      "    (0): BasicBlock(\n",
      "      (conv1): Conv2d(256, 512, kernel_size=(3, 3), stride=(2, 2), padding=(1, 1), bias=False)\n",
      "      (bn1): BatchNorm2d(512, eps=1e-05, momentum=0.1, affine=True, track_running_stats=True)\n",
      "      (relu): ReLU(inplace=True)\n",
      "      (conv2): Conv2d(512, 512, kernel_size=(3, 3), stride=(1, 1), padding=(1, 1), bias=False)\n",
      "      (bn2): BatchNorm2d(512, eps=1e-05, momentum=0.1, affine=True, track_running_stats=True)\n",
      "      (downsample): Sequential(\n",
      "        (0): Conv2d(256, 512, kernel_size=(1, 1), stride=(2, 2), bias=False)\n",
      "        (1): BatchNorm2d(512, eps=1e-05, momentum=0.1, affine=True, track_running_stats=True)\n",
      "      )\n",
      "    )\n",
      "    (1): BasicBlock(\n",
      "      (conv1): Conv2d(512, 512, kernel_size=(3, 3), stride=(1, 1), padding=(1, 1), bias=False)\n",
      "      (bn1): BatchNorm2d(512, eps=1e-05, momentum=0.1, affine=True, track_running_stats=True)\n",
      "      (relu): ReLU(inplace=True)\n",
      "      (conv2): Conv2d(512, 512, kernel_size=(3, 3), stride=(1, 1), padding=(1, 1), bias=False)\n",
      "      (bn2): BatchNorm2d(512, eps=1e-05, momentum=0.1, affine=True, track_running_stats=True)\n",
      "    )\n",
      "  )\n",
      "  (avgpool): AdaptiveAvgPool2d(output_size=(1, 1))\n",
      "  (fc): Linear(in_features=512, out_features=2, bias=True)\n",
      ")\n"
     ]
    }
   ],
   "source": [
    "print(model)"
   ]
  },
  {
   "cell_type": "code",
   "execution_count": 151,
   "metadata": {},
   "outputs": [],
   "source": [
    "dc_model = copy.deepcopy(model)\n",
    "nmbr_f = dc_model.fc.in_features\n",
    "dc_model.fc = nn.Linear(num_ftrs, 10)"
   ]
  },
  {
   "cell_type": "code",
   "execution_count": 153,
   "metadata": {
    "scrolled": true
   },
   "outputs": [
    {
     "name": "stdout",
     "output_type": "stream",
     "text": [
      "ResNet(\n",
      "  (conv1): Conv2d(3, 64, kernel_size=(7, 7), stride=(2, 2), padding=(3, 3), bias=False)\n",
      "  (bn1): BatchNorm2d(64, eps=1e-05, momentum=0.1, affine=True, track_running_stats=True)\n",
      "  (relu): ReLU(inplace=True)\n",
      "  (maxpool): MaxPool2d(kernel_size=3, stride=2, padding=1, dilation=1, ceil_mode=False)\n",
      "  (layer1): Sequential(\n",
      "    (0): BasicBlock(\n",
      "      (conv1): Conv2d(64, 64, kernel_size=(3, 3), stride=(1, 1), padding=(1, 1), bias=False)\n",
      "      (bn1): BatchNorm2d(64, eps=1e-05, momentum=0.1, affine=True, track_running_stats=True)\n",
      "      (relu): ReLU(inplace=True)\n",
      "      (conv2): Conv2d(64, 64, kernel_size=(3, 3), stride=(1, 1), padding=(1, 1), bias=False)\n",
      "      (bn2): BatchNorm2d(64, eps=1e-05, momentum=0.1, affine=True, track_running_stats=True)\n",
      "    )\n",
      "    (1): BasicBlock(\n",
      "      (conv1): Conv2d(64, 64, kernel_size=(3, 3), stride=(1, 1), padding=(1, 1), bias=False)\n",
      "      (bn1): BatchNorm2d(64, eps=1e-05, momentum=0.1, affine=True, track_running_stats=True)\n",
      "      (relu): ReLU(inplace=True)\n",
      "      (conv2): Conv2d(64, 64, kernel_size=(3, 3), stride=(1, 1), padding=(1, 1), bias=False)\n",
      "      (bn2): BatchNorm2d(64, eps=1e-05, momentum=0.1, affine=True, track_running_stats=True)\n",
      "    )\n",
      "  )\n",
      "  (layer2): Sequential(\n",
      "    (0): BasicBlock(\n",
      "      (conv1): Conv2d(64, 128, kernel_size=(3, 3), stride=(2, 2), padding=(1, 1), bias=False)\n",
      "      (bn1): BatchNorm2d(128, eps=1e-05, momentum=0.1, affine=True, track_running_stats=True)\n",
      "      (relu): ReLU(inplace=True)\n",
      "      (conv2): Conv2d(128, 128, kernel_size=(3, 3), stride=(1, 1), padding=(1, 1), bias=False)\n",
      "      (bn2): BatchNorm2d(128, eps=1e-05, momentum=0.1, affine=True, track_running_stats=True)\n",
      "      (downsample): Sequential(\n",
      "        (0): Conv2d(64, 128, kernel_size=(1, 1), stride=(2, 2), bias=False)\n",
      "        (1): BatchNorm2d(128, eps=1e-05, momentum=0.1, affine=True, track_running_stats=True)\n",
      "      )\n",
      "    )\n",
      "    (1): BasicBlock(\n",
      "      (conv1): Conv2d(128, 128, kernel_size=(3, 3), stride=(1, 1), padding=(1, 1), bias=False)\n",
      "      (bn1): BatchNorm2d(128, eps=1e-05, momentum=0.1, affine=True, track_running_stats=True)\n",
      "      (relu): ReLU(inplace=True)\n",
      "      (conv2): Conv2d(128, 128, kernel_size=(3, 3), stride=(1, 1), padding=(1, 1), bias=False)\n",
      "      (bn2): BatchNorm2d(128, eps=1e-05, momentum=0.1, affine=True, track_running_stats=True)\n",
      "    )\n",
      "  )\n",
      "  (layer3): Sequential(\n",
      "    (0): BasicBlock(\n",
      "      (conv1): Conv2d(128, 256, kernel_size=(3, 3), stride=(2, 2), padding=(1, 1), bias=False)\n",
      "      (bn1): BatchNorm2d(256, eps=1e-05, momentum=0.1, affine=True, track_running_stats=True)\n",
      "      (relu): ReLU(inplace=True)\n",
      "      (conv2): Conv2d(256, 256, kernel_size=(3, 3), stride=(1, 1), padding=(1, 1), bias=False)\n",
      "      (bn2): BatchNorm2d(256, eps=1e-05, momentum=0.1, affine=True, track_running_stats=True)\n",
      "      (downsample): Sequential(\n",
      "        (0): Conv2d(128, 256, kernel_size=(1, 1), stride=(2, 2), bias=False)\n",
      "        (1): BatchNorm2d(256, eps=1e-05, momentum=0.1, affine=True, track_running_stats=True)\n",
      "      )\n",
      "    )\n",
      "    (1): BasicBlock(\n",
      "      (conv1): Conv2d(256, 256, kernel_size=(3, 3), stride=(1, 1), padding=(1, 1), bias=False)\n",
      "      (bn1): BatchNorm2d(256, eps=1e-05, momentum=0.1, affine=True, track_running_stats=True)\n",
      "      (relu): ReLU(inplace=True)\n",
      "      (conv2): Conv2d(256, 256, kernel_size=(3, 3), stride=(1, 1), padding=(1, 1), bias=False)\n",
      "      (bn2): BatchNorm2d(256, eps=1e-05, momentum=0.1, affine=True, track_running_stats=True)\n",
      "    )\n",
      "  )\n",
      "  (layer4): Sequential(\n",
      "    (0): BasicBlock(\n",
      "      (conv1): Conv2d(256, 512, kernel_size=(3, 3), stride=(2, 2), padding=(1, 1), bias=False)\n",
      "      (bn1): BatchNorm2d(512, eps=1e-05, momentum=0.1, affine=True, track_running_stats=True)\n",
      "      (relu): ReLU(inplace=True)\n",
      "      (conv2): Conv2d(512, 512, kernel_size=(3, 3), stride=(1, 1), padding=(1, 1), bias=False)\n",
      "      (bn2): BatchNorm2d(512, eps=1e-05, momentum=0.1, affine=True, track_running_stats=True)\n",
      "      (downsample): Sequential(\n",
      "        (0): Conv2d(256, 512, kernel_size=(1, 1), stride=(2, 2), bias=False)\n",
      "        (1): BatchNorm2d(512, eps=1e-05, momentum=0.1, affine=True, track_running_stats=True)\n",
      "      )\n",
      "    )\n",
      "    (1): BasicBlock(\n",
      "      (conv1): Conv2d(512, 512, kernel_size=(3, 3), stride=(1, 1), padding=(1, 1), bias=False)\n",
      "      (bn1): BatchNorm2d(512, eps=1e-05, momentum=0.1, affine=True, track_running_stats=True)\n",
      "      (relu): ReLU(inplace=True)\n",
      "      (conv2): Conv2d(512, 512, kernel_size=(3, 3), stride=(1, 1), padding=(1, 1), bias=False)\n",
      "      (bn2): BatchNorm2d(512, eps=1e-05, momentum=0.1, affine=True, track_running_stats=True)\n",
      "    )\n",
      "  )\n",
      "  (avgpool): AdaptiveAvgPool2d(output_size=(1, 1))\n",
      "  (fc): Linear(in_features=512, out_features=2, bias=True)\n",
      ")\n"
     ]
    }
   ],
   "source": [
    "print(model)"
   ]
  },
  {
   "cell_type": "code",
   "execution_count": null,
   "metadata": {},
   "outputs": [],
   "source": []
  },
  {
   "cell_type": "code",
   "execution_count": 6,
   "metadata": {},
   "outputs": [
    {
     "name": "stdout",
     "output_type": "stream",
     "text": [
      "**************************************************\n",
      "Model: {'weight': Parameter containing:\n",
      "tensor([121.], requires_grad=True), 'bias': Parameter containing:\n",
      "tensor([-0.0994], requires_grad=True)}\n",
      "**************************************************\n",
      "DeepModel: {'weight': Parameter containing:\n",
      "tensor([[-0.6039]], requires_grad=True), 'bias': Parameter containing:\n",
      "tensor([-0.0994], requires_grad=True)}\n",
      "**************************************************\n",
      "Leaf Tensor: Parameter containing:\n",
      "tensor([0.1000], requires_grad=True)\n",
      "Y: tensor([0.2000], grad_fn=<MulBackward0>)\n",
      "Leaf Deep Copy: Parameter containing:\n",
      "tensor([0.1000], requires_grad=True)\n"
     ]
    },
    {
     "ename": "RuntimeError",
     "evalue": "Only Tensors created explicitly by the user (graph leaves) support the deepcopy protocol at the moment",
     "output_type": "error",
     "traceback": [
      "\u001b[0;31m---------------------------------------------------------------------------\u001b[0m",
      "\u001b[0;31mRuntimeError\u001b[0m                              Traceback (most recent call last)",
      "\u001b[0;32m<ipython-input-6-43cc925efbc6>\u001b[0m in \u001b[0;36m<module>\u001b[0;34m\u001b[0m\n\u001b[1;32m     18\u001b[0m \u001b[0mprint\u001b[0m\u001b[0;34m(\u001b[0m\u001b[0;34m\"Y:\"\u001b[0m\u001b[0;34m,\u001b[0m \u001b[0my\u001b[0m\u001b[0;34m)\u001b[0m\u001b[0;34m\u001b[0m\u001b[0;34m\u001b[0m\u001b[0m\n\u001b[1;32m     19\u001b[0m \u001b[0mprint\u001b[0m\u001b[0;34m(\u001b[0m\u001b[0;34m\"Leaf Deep Copy:\"\u001b[0m\u001b[0;34m,\u001b[0m \u001b[0mcopy\u001b[0m\u001b[0;34m.\u001b[0m\u001b[0mdeepcopy\u001b[0m\u001b[0;34m(\u001b[0m\u001b[0mleaf_tensor\u001b[0m\u001b[0;34m)\u001b[0m\u001b[0;34m)\u001b[0m\u001b[0;34m\u001b[0m\u001b[0;34m\u001b[0m\u001b[0m\n\u001b[0;32m---> 20\u001b[0;31m \u001b[0mprint\u001b[0m\u001b[0;34m(\u001b[0m\u001b[0;34m\"Non-Leaf Deep Copy (Error):\"\u001b[0m\u001b[0;34m,\u001b[0m \u001b[0mcopy\u001b[0m\u001b[0;34m.\u001b[0m\u001b[0mdeepcopy\u001b[0m\u001b[0;34m(\u001b[0m\u001b[0my\u001b[0m\u001b[0;34m)\u001b[0m\u001b[0;34m)\u001b[0m\u001b[0;34m\u001b[0m\u001b[0;34m\u001b[0m\u001b[0m\n\u001b[0m",
      "\u001b[0;32m~/anaconda3/envs/PY3/lib/python3.6/copy.py\u001b[0m in \u001b[0;36mdeepcopy\u001b[0;34m(x, memo, _nil)\u001b[0m\n\u001b[1;32m    159\u001b[0m             \u001b[0mcopier\u001b[0m \u001b[0;34m=\u001b[0m \u001b[0mgetattr\u001b[0m\u001b[0;34m(\u001b[0m\u001b[0mx\u001b[0m\u001b[0;34m,\u001b[0m \u001b[0;34m\"__deepcopy__\"\u001b[0m\u001b[0;34m,\u001b[0m \u001b[0;32mNone\u001b[0m\u001b[0;34m)\u001b[0m\u001b[0;34m\u001b[0m\u001b[0;34m\u001b[0m\u001b[0m\n\u001b[1;32m    160\u001b[0m             \u001b[0;32mif\u001b[0m \u001b[0mcopier\u001b[0m\u001b[0;34m:\u001b[0m\u001b[0;34m\u001b[0m\u001b[0;34m\u001b[0m\u001b[0m\n\u001b[0;32m--> 161\u001b[0;31m                 \u001b[0my\u001b[0m \u001b[0;34m=\u001b[0m \u001b[0mcopier\u001b[0m\u001b[0;34m(\u001b[0m\u001b[0mmemo\u001b[0m\u001b[0;34m)\u001b[0m\u001b[0;34m\u001b[0m\u001b[0;34m\u001b[0m\u001b[0m\n\u001b[0m\u001b[1;32m    162\u001b[0m             \u001b[0;32melse\u001b[0m\u001b[0;34m:\u001b[0m\u001b[0;34m\u001b[0m\u001b[0;34m\u001b[0m\u001b[0m\n\u001b[1;32m    163\u001b[0m                 \u001b[0mreductor\u001b[0m \u001b[0;34m=\u001b[0m \u001b[0mdispatch_table\u001b[0m\u001b[0;34m.\u001b[0m\u001b[0mget\u001b[0m\u001b[0;34m(\u001b[0m\u001b[0mcls\u001b[0m\u001b[0;34m)\u001b[0m\u001b[0;34m\u001b[0m\u001b[0;34m\u001b[0m\u001b[0m\n",
      "\u001b[0;32m~/anaconda3/envs/PY3/lib/python3.6/site-packages/torch/tensor.py\u001b[0m in \u001b[0;36m__deepcopy__\u001b[0;34m(self, memo)\u001b[0m\n\u001b[1;32m     42\u001b[0m     \u001b[0;32mdef\u001b[0m \u001b[0m__deepcopy__\u001b[0m\u001b[0;34m(\u001b[0m\u001b[0mself\u001b[0m\u001b[0;34m,\u001b[0m \u001b[0mmemo\u001b[0m\u001b[0;34m)\u001b[0m\u001b[0;34m:\u001b[0m\u001b[0;34m\u001b[0m\u001b[0;34m\u001b[0m\u001b[0m\n\u001b[1;32m     43\u001b[0m         \u001b[0;32mif\u001b[0m \u001b[0;32mnot\u001b[0m \u001b[0mself\u001b[0m\u001b[0;34m.\u001b[0m\u001b[0mis_leaf\u001b[0m\u001b[0;34m:\u001b[0m\u001b[0;34m\u001b[0m\u001b[0;34m\u001b[0m\u001b[0m\n\u001b[0;32m---> 44\u001b[0;31m             raise RuntimeError(\"Only Tensors created explicitly by the user \"\n\u001b[0m\u001b[1;32m     45\u001b[0m                                \"(graph leaves) support the deepcopy protocol at the moment\")\n\u001b[1;32m     46\u001b[0m         \u001b[0;32mif\u001b[0m \u001b[0mid\u001b[0m\u001b[0;34m(\u001b[0m\u001b[0mself\u001b[0m\u001b[0;34m)\u001b[0m \u001b[0;32min\u001b[0m \u001b[0mmemo\u001b[0m\u001b[0;34m:\u001b[0m\u001b[0;34m\u001b[0m\u001b[0;34m\u001b[0m\u001b[0m\n",
      "\u001b[0;31mRuntimeError\u001b[0m: Only Tensors created explicitly by the user (graph leaves) support the deepcopy protocol at the moment"
     ]
    }
   ],
   "source": [
    "import copy\n",
    "#DeepCopy\n",
    "model = nn.Linear(1, 1)\n",
    "model_deep_copy = copy.deepcopy(model)\n",
    "# print(type(model.weight))\n",
    "model.weight.data = torch.FloatTensor([121])\n",
    "\n",
    "print(\"*\" * 50)\n",
    "print(\"Model:\", dict(model.named_parameters()))\n",
    "print(\"*\" * 50)\n",
    "print(\"DeepModel:\", dict(model_deep_copy.named_parameters()))\n",
    "print(\"*\" * 50)\n",
    "\n",
    "#We can only copy the leaf tensors (Created by us). We cannot copy the non-leaf tensor.\n",
    "leaf_tensor = nn.Parameter(data=torch.FloatTensor([0.1]), requires_grad=True)\n",
    "print(\"Leaf Tensor:\", leaf_tensor)\n",
    "y = leaf_tensor * 2\n",
    "print(\"Y:\", y)\n",
    "print(\"Leaf Deep Copy:\", copy.deepcopy(leaf_tensor))\n",
    "print(\"Non-Leaf Deep Copy (Error):\", copy.deepcopy(y))\n"
   ]
  },
  {
   "cell_type": "code",
   "execution_count": null,
   "metadata": {},
   "outputs": [],
   "source": []
  },
  {
   "cell_type": "code",
   "execution_count": 82,
   "metadata": {},
   "outputs": [
    {
     "name": "stdout",
     "output_type": "stream",
     "text": [
      "tensor([[0.9940]])\n"
     ]
    }
   ],
   "source": [
    "# with torch.no_grad():\n",
    "model.weight.data.fill_ = torch.tensor(0)\n",
    "print(model.weight.data)\n",
    "# model.weight\n"
   ]
  },
  {
   "cell_type": "code",
   "execution_count": 74,
   "metadata": {},
   "outputs": [
    {
     "name": "stdout",
     "output_type": "stream",
     "text": [
      "{'weight': Parameter containing:\n",
      "tensor([[0.9940]], requires_grad=True), 'bias': Parameter containing:\n",
      "tensor([-0.8616], requires_grad=True)}\n"
     ]
    }
   ],
   "source": [
    "print(dict(model.named_parameters()))"
   ]
  },
  {
   "cell_type": "code",
   "execution_count": null,
   "metadata": {},
   "outputs": [],
   "source": []
  },
  {
   "cell_type": "code",
   "execution_count": 131,
   "metadata": {},
   "outputs": [
    {
     "name": "stdout",
     "output_type": "stream",
     "text": [
      "x.Data tensor([4.])\n",
      "xx.Data tensor([2.])\n",
      "tensor([48.], grad_fn=<MulBackward0>)\n",
      "G: tensor([24.])\n",
      "D-Copy: G: tensor([12.])\n"
     ]
    }
   ],
   "source": [
    "import torch\n",
    "from torch.autograd import Variable\n",
    "\n",
    "def basic_fun(x):\n",
    "    return 3*(x*x)\n",
    "\n",
    "def get_grad(x):\n",
    "    A = basic_fun(x)\n",
    "    A.backward()\n",
    "    return x.grad\n",
    "\n",
    "x = Variable(torch.FloatTensor([3]), requires_grad=True)\n",
    "# xx = copy.deepcopy(x)\n",
    "# xx = x.clone()\n",
    "xx = Variable(x.data.clone(), requires_grad=True)\n",
    "\n",
    "x.data = torch.FloatTensor([4])\n",
    "xx.data = torch.FloatTensor([2])\n",
    "\n",
    "print(\"x.Data\", x.data)\n",
    "print(\"xx.Data\", xx.data)\n",
    "\n",
    "print(basic_fun(x))\n",
    "print(\"G:\", get_grad(x))\n",
    "print(\"D-Copy: G:\", get_grad(xx))\n"
   ]
  },
  {
   "cell_type": "code",
   "execution_count": 120,
   "metadata": {},
   "outputs": [
    {
     "ename": "AttributeError",
     "evalue": "'Tensor' object has no attribute 'creator'",
     "output_type": "error",
     "traceback": [
      "\u001b[0;31m---------------------------------------------------------------------------\u001b[0m",
      "\u001b[0;31mAttributeError\u001b[0m                            Traceback (most recent call last)",
      "\u001b[0;32m<ipython-input-120-67a14f34bf8f>\u001b[0m in \u001b[0;36m<module>\u001b[0;34m\u001b[0m\n\u001b[1;32m      1\u001b[0m \u001b[0;31m# Grad wrt x will work\u001b[0m\u001b[0;34m\u001b[0m\u001b[0;34m\u001b[0m\u001b[0;34m\u001b[0m\u001b[0m\n\u001b[0;32m----> 2\u001b[0;31m \u001b[0mprint\u001b[0m\u001b[0;34m(\u001b[0m\u001b[0mx\u001b[0m\u001b[0;34m.\u001b[0m\u001b[0mcreator\u001b[0m \u001b[0;32mis\u001b[0m \u001b[0;32mNone\u001b[0m\u001b[0;34m)\u001b[0m \u001b[0;31m# is it a leaf? Yes\u001b[0m\u001b[0;34m\u001b[0m\u001b[0;34m\u001b[0m\u001b[0m\n\u001b[0m\u001b[1;32m      3\u001b[0m \u001b[0;31m# print(get_grad(x, x))\u001b[0m\u001b[0;34m\u001b[0m\u001b[0;34m\u001b[0m\u001b[0;34m\u001b[0m\u001b[0m\n\u001b[1;32m      4\u001b[0m \u001b[0;31m# print(get_grad(xx, x))\u001b[0m\u001b[0;34m\u001b[0m\u001b[0;34m\u001b[0m\u001b[0;34m\u001b[0m\u001b[0m\n\u001b[1;32m      5\u001b[0m \u001b[0;34m\u001b[0m\u001b[0m\n",
      "\u001b[0;31mAttributeError\u001b[0m: 'Tensor' object has no attribute 'creator'"
     ]
    }
   ],
   "source": [
    "# Grad wrt x will work\n",
    "print(x.creator is None) # is it a leaf? Yes\n",
    "# print(get_grad(x, x))\n",
    "# print(get_grad(xx, x))\n",
    "\n",
    "# # Grad wrt xx won't work\n",
    "# print(xx.creator is None) # is it a leaf? No\n",
    "# print(get_grad(xx, xx))\n",
    "# print(get_grad(x, xx))"
   ]
  },
  {
   "cell_type": "code",
   "execution_count": 36,
   "metadata": {
    "scrolled": true
   },
   "outputs": [
    {
     "name": "stdout",
     "output_type": "stream",
     "text": [
      "----------------------------------------------------------------\n",
      "        Layer (type)               Output Shape         Param #\n",
      "================================================================\n",
      "            Conv2d-1           [-1, 64, 32, 32]           9,408\n",
      "       BatchNorm2d-2           [-1, 64, 32, 32]             128\n",
      "              ReLU-3           [-1, 64, 32, 32]               0\n",
      "         MaxPool2d-4           [-1, 64, 16, 16]               0\n",
      "            Conv2d-5           [-1, 64, 16, 16]          36,864\n",
      "       BatchNorm2d-6           [-1, 64, 16, 16]             128\n",
      "              ReLU-7           [-1, 64, 16, 16]               0\n",
      "            Conv2d-8           [-1, 64, 16, 16]          36,864\n",
      "       BatchNorm2d-9           [-1, 64, 16, 16]             128\n",
      "             ReLU-10           [-1, 64, 16, 16]               0\n",
      "       BasicBlock-11           [-1, 64, 16, 16]               0\n",
      "           Conv2d-12           [-1, 64, 16, 16]          36,864\n",
      "      BatchNorm2d-13           [-1, 64, 16, 16]             128\n",
      "             ReLU-14           [-1, 64, 16, 16]               0\n",
      "           Conv2d-15           [-1, 64, 16, 16]          36,864\n",
      "      BatchNorm2d-16           [-1, 64, 16, 16]             128\n",
      "             ReLU-17           [-1, 64, 16, 16]               0\n",
      "       BasicBlock-18           [-1, 64, 16, 16]               0\n",
      "           Conv2d-19            [-1, 128, 8, 8]          73,728\n",
      "      BatchNorm2d-20            [-1, 128, 8, 8]             256\n",
      "             ReLU-21            [-1, 128, 8, 8]               0\n",
      "           Conv2d-22            [-1, 128, 8, 8]         147,456\n",
      "      BatchNorm2d-23            [-1, 128, 8, 8]             256\n",
      "           Conv2d-24            [-1, 128, 8, 8]           8,192\n",
      "      BatchNorm2d-25            [-1, 128, 8, 8]             256\n",
      "             ReLU-26            [-1, 128, 8, 8]               0\n",
      "       BasicBlock-27            [-1, 128, 8, 8]               0\n",
      "           Conv2d-28            [-1, 128, 8, 8]         147,456\n",
      "      BatchNorm2d-29            [-1, 128, 8, 8]             256\n",
      "             ReLU-30            [-1, 128, 8, 8]               0\n",
      "           Conv2d-31            [-1, 128, 8, 8]         147,456\n",
      "      BatchNorm2d-32            [-1, 128, 8, 8]             256\n",
      "             ReLU-33            [-1, 128, 8, 8]               0\n",
      "       BasicBlock-34            [-1, 128, 8, 8]               0\n",
      "           Conv2d-35            [-1, 256, 4, 4]         294,912\n",
      "      BatchNorm2d-36            [-1, 256, 4, 4]             512\n",
      "             ReLU-37            [-1, 256, 4, 4]               0\n",
      "           Conv2d-38            [-1, 256, 4, 4]         589,824\n",
      "      BatchNorm2d-39            [-1, 256, 4, 4]             512\n",
      "           Conv2d-40            [-1, 256, 4, 4]          32,768\n",
      "      BatchNorm2d-41            [-1, 256, 4, 4]             512\n",
      "             ReLU-42            [-1, 256, 4, 4]               0\n",
      "       BasicBlock-43            [-1, 256, 4, 4]               0\n",
      "           Conv2d-44            [-1, 256, 4, 4]         589,824\n",
      "      BatchNorm2d-45            [-1, 256, 4, 4]             512\n",
      "             ReLU-46            [-1, 256, 4, 4]               0\n",
      "           Conv2d-47            [-1, 256, 4, 4]         589,824\n",
      "      BatchNorm2d-48            [-1, 256, 4, 4]             512\n",
      "             ReLU-49            [-1, 256, 4, 4]               0\n",
      "       BasicBlock-50            [-1, 256, 4, 4]               0\n",
      "           Conv2d-51            [-1, 512, 2, 2]       1,179,648\n",
      "      BatchNorm2d-52            [-1, 512, 2, 2]           1,024\n",
      "             ReLU-53            [-1, 512, 2, 2]               0\n",
      "           Conv2d-54            [-1, 512, 2, 2]       2,359,296\n",
      "      BatchNorm2d-55            [-1, 512, 2, 2]           1,024\n",
      "           Conv2d-56            [-1, 512, 2, 2]         131,072\n",
      "      BatchNorm2d-57            [-1, 512, 2, 2]           1,024\n",
      "             ReLU-58            [-1, 512, 2, 2]               0\n",
      "       BasicBlock-59            [-1, 512, 2, 2]               0\n",
      "           Conv2d-60            [-1, 512, 2, 2]       2,359,296\n",
      "      BatchNorm2d-61            [-1, 512, 2, 2]           1,024\n",
      "             ReLU-62            [-1, 512, 2, 2]               0\n",
      "           Conv2d-63            [-1, 512, 2, 2]       2,359,296\n",
      "      BatchNorm2d-64            [-1, 512, 2, 2]           1,024\n",
      "             ReLU-65            [-1, 512, 2, 2]               0\n",
      "       BasicBlock-66            [-1, 512, 2, 2]               0\n",
      "AdaptiveAvgPool2d-67            [-1, 512, 1, 1]               0\n",
      "           Linear-68                   [-1, 10]           5,130\n",
      "================================================================\n",
      "Total params: 11,181,642\n",
      "Trainable params: 5,130\n",
      "Non-trainable params: 11,176,512\n",
      "----------------------------------------------------------------\n",
      "Input size (MB): 0.05\n",
      "Forward/backward pass size (MB): 5.13\n",
      "Params size (MB): 42.65\n",
      "Estimated Total Size (MB): 47.83\n",
      "----------------------------------------------------------------\n",
      "ResNet(\n",
      "  (conv1): Conv2d(3, 64, kernel_size=(7, 7), stride=(2, 2), padding=(3, 3), bias=False)\n",
      "  (bn1): BatchNorm2d(64, eps=1e-05, momentum=0.1, affine=True, track_running_stats=True)\n",
      "  (relu): ReLU(inplace=True)\n",
      "  (maxpool): MaxPool2d(kernel_size=3, stride=2, padding=1, dilation=1, ceil_mode=False)\n",
      "  (layer1): Sequential(\n",
      "    (0): BasicBlock(\n",
      "      (conv1): Conv2d(64, 64, kernel_size=(3, 3), stride=(1, 1), padding=(1, 1), bias=False)\n",
      "      (bn1): BatchNorm2d(64, eps=1e-05, momentum=0.1, affine=True, track_running_stats=True)\n",
      "      (relu): ReLU(inplace=True)\n",
      "      (conv2): Conv2d(64, 64, kernel_size=(3, 3), stride=(1, 1), padding=(1, 1), bias=False)\n",
      "      (bn2): BatchNorm2d(64, eps=1e-05, momentum=0.1, affine=True, track_running_stats=True)\n",
      "    )\n",
      "    (1): BasicBlock(\n",
      "      (conv1): Conv2d(64, 64, kernel_size=(3, 3), stride=(1, 1), padding=(1, 1), bias=False)\n",
      "      (bn1): BatchNorm2d(64, eps=1e-05, momentum=0.1, affine=True, track_running_stats=True)\n",
      "      (relu): ReLU(inplace=True)\n",
      "      (conv2): Conv2d(64, 64, kernel_size=(3, 3), stride=(1, 1), padding=(1, 1), bias=False)\n",
      "      (bn2): BatchNorm2d(64, eps=1e-05, momentum=0.1, affine=True, track_running_stats=True)\n",
      "    )\n",
      "  )\n",
      "  (layer2): Sequential(\n",
      "    (0): BasicBlock(\n",
      "      (conv1): Conv2d(64, 128, kernel_size=(3, 3), stride=(2, 2), padding=(1, 1), bias=False)\n",
      "      (bn1): BatchNorm2d(128, eps=1e-05, momentum=0.1, affine=True, track_running_stats=True)\n",
      "      (relu): ReLU(inplace=True)\n",
      "      (conv2): Conv2d(128, 128, kernel_size=(3, 3), stride=(1, 1), padding=(1, 1), bias=False)\n",
      "      (bn2): BatchNorm2d(128, eps=1e-05, momentum=0.1, affine=True, track_running_stats=True)\n",
      "      (downsample): Sequential(\n",
      "        (0): Conv2d(64, 128, kernel_size=(1, 1), stride=(2, 2), bias=False)\n",
      "        (1): BatchNorm2d(128, eps=1e-05, momentum=0.1, affine=True, track_running_stats=True)\n",
      "      )\n",
      "    )\n",
      "    (1): BasicBlock(\n",
      "      (conv1): Conv2d(128, 128, kernel_size=(3, 3), stride=(1, 1), padding=(1, 1), bias=False)\n",
      "      (bn1): BatchNorm2d(128, eps=1e-05, momentum=0.1, affine=True, track_running_stats=True)\n",
      "      (relu): ReLU(inplace=True)\n",
      "      (conv2): Conv2d(128, 128, kernel_size=(3, 3), stride=(1, 1), padding=(1, 1), bias=False)\n",
      "      (bn2): BatchNorm2d(128, eps=1e-05, momentum=0.1, affine=True, track_running_stats=True)\n",
      "    )\n",
      "  )\n",
      "  (layer3): Sequential(\n",
      "    (0): BasicBlock(\n",
      "      (conv1): Conv2d(128, 256, kernel_size=(3, 3), stride=(2, 2), padding=(1, 1), bias=False)\n",
      "      (bn1): BatchNorm2d(256, eps=1e-05, momentum=0.1, affine=True, track_running_stats=True)\n",
      "      (relu): ReLU(inplace=True)\n",
      "      (conv2): Conv2d(256, 256, kernel_size=(3, 3), stride=(1, 1), padding=(1, 1), bias=False)\n",
      "      (bn2): BatchNorm2d(256, eps=1e-05, momentum=0.1, affine=True, track_running_stats=True)\n",
      "      (downsample): Sequential(\n",
      "        (0): Conv2d(128, 256, kernel_size=(1, 1), stride=(2, 2), bias=False)\n",
      "        (1): BatchNorm2d(256, eps=1e-05, momentum=0.1, affine=True, track_running_stats=True)\n",
      "      )\n",
      "    )\n",
      "    (1): BasicBlock(\n",
      "      (conv1): Conv2d(256, 256, kernel_size=(3, 3), stride=(1, 1), padding=(1, 1), bias=False)\n",
      "      (bn1): BatchNorm2d(256, eps=1e-05, momentum=0.1, affine=True, track_running_stats=True)\n",
      "      (relu): ReLU(inplace=True)\n",
      "      (conv2): Conv2d(256, 256, kernel_size=(3, 3), stride=(1, 1), padding=(1, 1), bias=False)\n",
      "      (bn2): BatchNorm2d(256, eps=1e-05, momentum=0.1, affine=True, track_running_stats=True)\n",
      "    )\n",
      "  )\n",
      "  (layer4): Sequential(\n",
      "    (0): BasicBlock(\n",
      "      (conv1): Conv2d(256, 512, kernel_size=(3, 3), stride=(2, 2), padding=(1, 1), bias=False)\n",
      "      (bn1): BatchNorm2d(512, eps=1e-05, momentum=0.1, affine=True, track_running_stats=True)\n",
      "      (relu): ReLU(inplace=True)\n",
      "      (conv2): Conv2d(512, 512, kernel_size=(3, 3), stride=(1, 1), padding=(1, 1), bias=False)\n",
      "      (bn2): BatchNorm2d(512, eps=1e-05, momentum=0.1, affine=True, track_running_stats=True)\n",
      "      (downsample): Sequential(\n",
      "        (0): Conv2d(256, 512, kernel_size=(1, 1), stride=(2, 2), bias=False)\n",
      "        (1): BatchNorm2d(512, eps=1e-05, momentum=0.1, affine=True, track_running_stats=True)\n",
      "      )\n",
      "    )\n",
      "    (1): BasicBlock(\n",
      "      (conv1): Conv2d(512, 512, kernel_size=(3, 3), stride=(1, 1), padding=(1, 1), bias=False)\n",
      "      (bn1): BatchNorm2d(512, eps=1e-05, momentum=0.1, affine=True, track_running_stats=True)\n",
      "      (relu): ReLU(inplace=True)\n",
      "      (conv2): Conv2d(512, 512, kernel_size=(3, 3), stride=(1, 1), padding=(1, 1), bias=False)\n",
      "      (bn2): BatchNorm2d(512, eps=1e-05, momentum=0.1, affine=True, track_running_stats=True)\n",
      "    )\n",
      "  )\n",
      "  (avgpool): AdaptiveAvgPool2d(output_size=(1, 1))\n",
      "  (fc): Linear(in_features=512, out_features=10, bias=True)\n",
      ")\n"
     ]
    }
   ],
   "source": [
    "from torchsummary import torchsummary\n",
    "model = resnet18(pretrained=True).to(device)\n",
    "for param in model.parameters():\n",
    "    param.requires_grad = False\n",
    "#     print(param.name)\n",
    "num_ftrs = model.fc.in_features\n",
    "\n",
    "num_ftrs \n",
    "model.fc = nn.Linear(num_ftrs, 10).to(device)\n",
    "# model.fc = VDP_Softmax(VDP_FullyConnected(in_features=num_ftrs, out_features=ways)).to(device)\n",
    "# mean, sigma = VDP_FullyConnected(in_features=num_ftrs, out_features=ways)\n",
    "# fc1 = VDP_Softmax()\n",
    "# model.fc = VDP_Softmax(VDP_FullyConnected(in_features=num_ftrs, out_features=ways)).to(device)\n",
    "# mu, sigma = self.softmax.forward(mu, sigma)\n",
    "\n",
    "\n",
    "torchsummary.summary(model, input_size= (3, 64, 64))\n",
    "print(model)"
   ]
  },
  {
   "cell_type": "code",
   "execution_count": 20,
   "metadata": {},
   "outputs": [
    {
     "name": "stdout",
     "output_type": "stream",
     "text": [
      "tensor([[-0.7108, -0.1163,  0.2978,  0.1578,  0.6097,  1.2605,  0.2824,  0.2271,\n",
      "          0.6098,  0.1190]], device='cuda:0', grad_fn=<AddmmBackward>)\n"
     ]
    }
   ],
   "source": [
    "rand_img = torch.rand(1,3,64,64).to(device)\n",
    "print(model(rand_img))"
   ]
  },
  {
   "cell_type": "code",
   "execution_count": 50,
   "metadata": {
    "scrolled": true
   },
   "outputs": [
    {
     "name": "stdout",
     "output_type": "stream",
     "text": [
      "----------------------------------------------------------------\n",
      "        Layer (type)               Output Shape         Param #\n",
      "================================================================\n",
      "            Conv2d-1           [-1, 64, 16, 16]           9,408\n",
      "       BatchNorm2d-2           [-1, 64, 16, 16]             128\n",
      "              ReLU-3           [-1, 64, 16, 16]               0\n",
      "         MaxPool2d-4             [-1, 64, 8, 8]               0\n",
      "            Conv2d-5             [-1, 64, 8, 8]          36,864\n",
      "       BatchNorm2d-6             [-1, 64, 8, 8]             128\n",
      "              ReLU-7             [-1, 64, 8, 8]               0\n",
      "            Conv2d-8             [-1, 64, 8, 8]          36,864\n",
      "       BatchNorm2d-9             [-1, 64, 8, 8]             128\n",
      "             ReLU-10             [-1, 64, 8, 8]               0\n",
      "       BasicBlock-11             [-1, 64, 8, 8]               0\n",
      "           Conv2d-12             [-1, 64, 8, 8]          36,864\n",
      "      BatchNorm2d-13             [-1, 64, 8, 8]             128\n",
      "             ReLU-14             [-1, 64, 8, 8]               0\n",
      "           Conv2d-15             [-1, 64, 8, 8]          36,864\n",
      "      BatchNorm2d-16             [-1, 64, 8, 8]             128\n",
      "             ReLU-17             [-1, 64, 8, 8]               0\n",
      "       BasicBlock-18             [-1, 64, 8, 8]               0\n",
      "           Conv2d-19            [-1, 128, 4, 4]          73,728\n",
      "      BatchNorm2d-20            [-1, 128, 4, 4]             256\n",
      "             ReLU-21            [-1, 128, 4, 4]               0\n",
      "           Conv2d-22            [-1, 128, 4, 4]         147,456\n",
      "      BatchNorm2d-23            [-1, 128, 4, 4]             256\n",
      "           Conv2d-24            [-1, 128, 4, 4]           8,192\n",
      "      BatchNorm2d-25            [-1, 128, 4, 4]             256\n",
      "             ReLU-26            [-1, 128, 4, 4]               0\n",
      "       BasicBlock-27            [-1, 128, 4, 4]               0\n",
      "           Conv2d-28            [-1, 128, 4, 4]         147,456\n",
      "      BatchNorm2d-29            [-1, 128, 4, 4]             256\n",
      "             ReLU-30            [-1, 128, 4, 4]               0\n",
      "           Conv2d-31            [-1, 128, 4, 4]         147,456\n",
      "      BatchNorm2d-32            [-1, 128, 4, 4]             256\n",
      "             ReLU-33            [-1, 128, 4, 4]               0\n",
      "       BasicBlock-34            [-1, 128, 4, 4]               0\n",
      "           Conv2d-35            [-1, 256, 2, 2]         294,912\n",
      "      BatchNorm2d-36            [-1, 256, 2, 2]             512\n",
      "             ReLU-37            [-1, 256, 2, 2]               0\n",
      "           Conv2d-38            [-1, 256, 2, 2]         589,824\n",
      "      BatchNorm2d-39            [-1, 256, 2, 2]             512\n",
      "           Conv2d-40            [-1, 256, 2, 2]          32,768\n",
      "      BatchNorm2d-41            [-1, 256, 2, 2]             512\n",
      "             ReLU-42            [-1, 256, 2, 2]               0\n",
      "       BasicBlock-43            [-1, 256, 2, 2]               0\n",
      "           Conv2d-44            [-1, 256, 2, 2]         589,824\n",
      "      BatchNorm2d-45            [-1, 256, 2, 2]             512\n",
      "             ReLU-46            [-1, 256, 2, 2]               0\n",
      "           Conv2d-47            [-1, 256, 2, 2]         589,824\n",
      "      BatchNorm2d-48            [-1, 256, 2, 2]             512\n",
      "             ReLU-49            [-1, 256, 2, 2]               0\n",
      "       BasicBlock-50            [-1, 256, 2, 2]               0\n",
      "           Conv2d-51            [-1, 512, 1, 1]       1,179,648\n",
      "      BatchNorm2d-52            [-1, 512, 1, 1]           1,024\n",
      "             ReLU-53            [-1, 512, 1, 1]               0\n",
      "           Conv2d-54            [-1, 512, 1, 1]       2,359,296\n",
      "      BatchNorm2d-55            [-1, 512, 1, 1]           1,024\n",
      "           Conv2d-56            [-1, 512, 1, 1]         131,072\n",
      "      BatchNorm2d-57            [-1, 512, 1, 1]           1,024\n",
      "             ReLU-58            [-1, 512, 1, 1]               0\n",
      "       BasicBlock-59            [-1, 512, 1, 1]               0\n",
      "           Conv2d-60            [-1, 512, 1, 1]       2,359,296\n",
      "      BatchNorm2d-61            [-1, 512, 1, 1]           1,024\n",
      "             ReLU-62            [-1, 512, 1, 1]               0\n",
      "           Conv2d-63            [-1, 512, 1, 1]       2,359,296\n",
      "      BatchNorm2d-64            [-1, 512, 1, 1]           1,024\n",
      "             ReLU-65            [-1, 512, 1, 1]               0\n",
      "       BasicBlock-66            [-1, 512, 1, 1]               0\n",
      "AdaptiveAvgPool2d-67            [-1, 512, 1, 1]               0\n",
      "           Linear-68                   [-1, 10]           5,130\n",
      "================================================================\n",
      "Total params: 11,181,642\n",
      "Trainable params: 5,130\n",
      "Non-trainable params: 11,176,512\n",
      "----------------------------------------------------------------\n",
      "Input size (MB): 0.01\n",
      "Forward/backward pass size (MB): 1.29\n",
      "Params size (MB): 42.65\n",
      "Estimated Total Size (MB): 43.95\n",
      "----------------------------------------------------------------\n"
     ]
    }
   ],
   "source": [
    "deep_copy = copy.deepcopy(model)\n",
    "torchsummary.summary(model, input_size= (3, 32, 32))"
   ]
  },
  {
   "cell_type": "code",
   "execution_count": 23,
   "metadata": {},
   "outputs": [
    {
     "name": "stdout",
     "output_type": "stream",
     "text": [
      "tensor([[-0.7108, -0.1163,  0.2978,  0.1578,  0.6097,  1.2605,  0.2824,  0.2271,\n",
      "          0.6098,  0.1190]], device='cuda:0', grad_fn=<AddmmBackward>)\n",
      "torch.Size([64, 3, 7, 7])\n"
     ]
    }
   ],
   "source": [
    "print(deep_copy(rand_img))\n",
    "\n",
    "for param in deep_copy.parameters():\n",
    "    param.requires_grad = False\n",
    "    print(param.shape)\n",
    "    break"
   ]
  },
  {
   "cell_type": "markdown",
   "metadata": {},
   "source": [
    "# Copying the weights of the networks"
   ]
  },
  {
   "cell_type": "code",
   "execution_count": 43,
   "metadata": {},
   "outputs": [
    {
     "name": "stdout",
     "output_type": "stream",
     "text": [
      "Conv2d(64, 64, kernel_size=(3, 3), stride=(1, 1), padding=(1, 1), bias=False)\n",
      "torch.Size([64, 64, 3, 3])\n",
      "Linear(in_features=512, out_features=10, bias=True)\n",
      "torch.Size([10, 512])\n",
      "tensor([ 0.0152, -0.0245, -0.0169, -0.0305,  0.0190,  0.0181,  0.0412, -0.0390,\n",
      "        -0.0397, -0.0366], device='cuda:0', grad_fn=<SelectBackward>)\n",
      "512\n",
      "torch.Size([10, 512])\n"
     ]
    }
   ],
   "source": [
    "print(model_1.layer1[0].conv1)\n",
    "print(model_1.layer1[0].conv1.weight.shape)\n",
    "print(model_1.fc)\n",
    "print(model_1.fc.weight.shape)\n",
    "print(model_1.fc.weight[:,1])\n",
    "print(len(model_1.fc.weight[1,:]))\n",
    "print(model_1.fc.weight.shape)"
   ]
  },
  {
   "cell_type": "code",
   "execution_count": 7,
   "metadata": {},
   "outputs": [
    {
     "name": "stdout",
     "output_type": "stream",
     "text": [
      "Model_1: tensor([[-0.2678, -0.5315, -0.2088, -0.4642, -0.7264, -0.9093, -0.8477, -0.8528,\n",
      "         -0.2258,  0.4375]], device='cuda:0', grad_fn=<AddmmBackward>)\n",
      "Model_2: tensor([[-0.2433,  0.6043, -0.0101, -1.4156, -0.6142, -0.3145, -0.0945,  0.6473,\n",
      "         -0.1886, -0.1036]], device='cuda:0', grad_fn=<AddmmBackward>)\n",
      "Deep Copy: tensor([[-0.2433,  0.6043, -0.0101, -1.4156, -0.6142, -0.3145, -0.0945,  0.6473,\n",
      "         -0.1886, -0.1036]], device='cuda:0', grad_fn=<AddmmBackward>)\n"
     ]
    }
   ],
   "source": [
    "from torchsummary import torchsummary\n",
    "import copy\n",
    "model_1 = resnet18(pretrained=True).to(device)\n",
    "model_2 = resnet18(pretrained=True).to(device)\n",
    "\n",
    "\n",
    "for param in model_1.parameters():\n",
    "    param.requires_grad = False\n",
    "for param in model_2.parameters():\n",
    "    param.requires_grad = False\n",
    "    \n",
    "model_1.fc = nn.Linear(model_1.fc.in_features, 10).to(device)\n",
    "model_2.fc = nn.Linear(model_2.fc.in_features, 10).to(device)\n",
    "deep_copy = copy.deepcopy(model_2)\n",
    "\n",
    "rand_img = torch.rand(1,3,64,64).to(device)\n",
    "print(\"Model_1:\", model_1(rand_img))\n",
    "print(\"Model_2:\", model_2(rand_img))\n",
    "print(\"Deep Copy:\", deep_copy(rand_img))"
   ]
  },
  {
   "cell_type": "code",
   "execution_count": 8,
   "metadata": {},
   "outputs": [
    {
     "name": "stdout",
     "output_type": "stream",
     "text": [
      "Model_1: tensor([[-0.2678, -0.5315, -0.2088, -0.4642, -0.7264, -0.9093, -0.8477, -0.8528,\n",
      "         -0.2258,  0.4375]], device='cuda:0', grad_fn=<AddmmBackward>)\n",
      "Model_2: tensor([[-0.2678, -0.5315, -0.2088, -0.4642, -0.7264, -0.9093, -0.8477, -0.8528,\n",
      "         -0.2258,  0.4375]], device='cuda:0', grad_fn=<AddmmBackward>)\n",
      "Deep Copy: tensor([[-0.2433,  0.6043, -0.0101, -1.4156, -0.6142, -0.3145, -0.0945,  0.6473,\n",
      "         -0.1886, -0.1036]], device='cuda:0', grad_fn=<AddmmBackward>)\n"
     ]
    }
   ],
   "source": [
    "model_1_params = model_1.named_parameters()\n",
    "model_2_params_dict = dict(model_2.named_parameters())\n",
    "\n",
    "for name , param in model_1_params:\n",
    "    if name in model_2_params_dict:\n",
    "        model_2_params_dict[name].data.copy_(param.data * 0.1 + 0.9 * model_2_params_dict[name].data)\n",
    "        model_2_params_dict[name].data.copy_(param.data)\n",
    "\n",
    "    \n",
    "model_2.load_state_dict(model_2_params_dict, strict=False)\n",
    "print(\"Model_1:\", model_1(rand_img))\n",
    "print(\"Model_2:\", model_2(rand_img))\n",
    "print(\"Deep Copy:\", deep_copy(rand_img))"
   ]
  },
  {
   "cell_type": "code",
   "execution_count": 20,
   "metadata": {},
   "outputs": [
    {
     "name": "stdout",
     "output_type": "stream",
     "text": [
      "<class 'torch.nn.modules.conv.Conv2d'>\n",
      "<class 'torch.nn.modules.batchnorm.BatchNorm2d'>\n",
      "<class 'torch.nn.modules.activation.ReLU'>\n",
      "<class 'torch.nn.modules.pooling.MaxPool2d'>\n",
      "N: <class 'torchvision.models.resnet.BasicBlock'>\n",
      "N: <class 'torchvision.models.resnet.BasicBlock'>\n",
      "<class 'torch.nn.modules.container.Sequential'>\n",
      "N: <class 'torchvision.models.resnet.BasicBlock'>\n",
      "N: <class 'torchvision.models.resnet.BasicBlock'>\n",
      "<class 'torch.nn.modules.container.Sequential'>\n",
      "N: <class 'torchvision.models.resnet.BasicBlock'>\n",
      "N: <class 'torchvision.models.resnet.BasicBlock'>\n",
      "<class 'torch.nn.modules.container.Sequential'>\n",
      "N: <class 'torchvision.models.resnet.BasicBlock'>\n",
      "N: <class 'torchvision.models.resnet.BasicBlock'>\n",
      "<class 'torch.nn.modules.container.Sequential'>\n",
      "<class 'torch.nn.modules.pooling.AdaptiveAvgPool2d'>\n",
      "<class 'torch.nn.modules.linear.Linear'>\n"
     ]
    }
   ],
   "source": [
    "for layer in model_1.children():\n",
    "    if isinstance(layer, nn.modules.container.Sequential):\n",
    "        for n_layer in layer:\n",
    "            print(\"N:\", type(n_layer))\n",
    "    print(type(layer))\n",
    "#     if isinstance()"
   ]
  },
  {
   "cell_type": "code",
   "execution_count": null,
   "metadata": {},
   "outputs": [],
   "source": []
  },
  {
   "cell_type": "code",
   "execution_count": 43,
   "metadata": {},
   "outputs": [
    {
     "name": "stdout",
     "output_type": "stream",
     "text": [
      "Model_1: tensor([[ 0.0031, -0.1992,  0.4709, -0.3987, -0.5813, -0.2905, -0.2426,  0.4255,\n",
      "         -0.4581,  0.5760]], device='cuda:0', grad_fn=<AddmmBackward>)\n",
      "Model_2: tensor([[ 0.0031, -0.1992,  0.4709, -0.3987, -0.5813, -0.2905, -0.2426,  0.4255,\n",
      "         -0.4581,  0.5760]], device='cuda:0', grad_fn=<AddmmBackward>)\n"
     ]
    }
   ],
   "source": [
    "print(\"Model_1:\", model_1(rand_img))\n",
    "print(\"Model_2:\", model_2(rand_img))"
   ]
  },
  {
   "cell_type": "code",
   "execution_count": 49,
   "metadata": {},
   "outputs": [
    {
     "name": "stdout",
     "output_type": "stream",
     "text": [
      "Linear(in_features=32, out_features=32, bias=True)\n",
      "Linear(in_features=32, out_features=32, bias=True)\n",
      "Parameter containing:\n",
      "tensor([[ 0.0897,  0.0470, -0.0028,  ...,  0.0524, -0.1199, -0.0076],\n",
      "        [ 0.1603, -0.1376, -0.0312,  ...,  0.1241, -0.0833,  0.1450],\n",
      "        [ 0.1605, -0.1210,  0.1759,  ..., -0.0748,  0.1349, -0.1259],\n",
      "        ...,\n",
      "        [-0.1310,  0.1397, -0.0681,  ...,  0.1446, -0.0416, -0.1311],\n",
      "        [-0.0540, -0.0133, -0.0979,  ...,  0.1300,  0.0003,  0.1153],\n",
      "        [-0.0873,  0.1674,  0.1346,  ...,  0.0278,  0.1286,  0.1635]])\n",
      "Parameter containing:\n",
      "tensor([[ 0.0897,  0.0470, -0.0028,  ...,  0.0524, -0.1199, -0.0076],\n",
      "        [ 0.1603, -0.1376, -0.0312,  ...,  0.1241, -0.0833,  0.1450],\n",
      "        [ 0.1605, -0.1210,  0.1759,  ..., -0.0748,  0.1349, -0.1259],\n",
      "        ...,\n",
      "        [-0.1310,  0.1397, -0.0681,  ...,  0.1446, -0.0416, -0.1311],\n",
      "        [-0.0540, -0.0133, -0.0979,  ...,  0.1300,  0.0003,  0.1153],\n",
      "        [-0.0873,  0.1674,  0.1346,  ...,  0.0278,  0.1286,  0.1635]])\n"
     ]
    }
   ],
   "source": [
    "L1 = nn.Linear(32, 32)\n",
    "L1.weight.requires_grad = False\n",
    "LD = copy.deepcopy(L1)\n",
    "print(L1)\n",
    "print(LD)\n",
    "print(L1.weight)\n",
    "print(LD.weight)"
   ]
  },
  {
   "cell_type": "code",
   "execution_count": null,
   "metadata": {},
   "outputs": [],
   "source": []
  }
 ],
 "metadata": {
  "kernelspec": {
   "display_name": "Python 3",
   "language": "python",
   "name": "python3"
  },
  "language_info": {
   "codemirror_mode": {
    "name": "ipython",
    "version": 3
   },
   "file_extension": ".py",
   "mimetype": "text/x-python",
   "name": "python",
   "nbconvert_exporter": "python",
   "pygments_lexer": "ipython3",
   "version": "3.6.10"
  }
 },
 "nbformat": 4,
 "nbformat_minor": 4
}
