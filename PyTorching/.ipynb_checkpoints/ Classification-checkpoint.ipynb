{
 "cells": [
  {
   "cell_type": "code",
   "execution_count": 15,
   "metadata": {},
   "outputs": [],
   "source": [
    "# Important Steps:\n",
    "# 1. Necessary Imports :) \n",
    "# 3. Hyper-parameters \n",
    "# 4. Dataset (Pre-Processing if any)\n",
    "# 5. Define model\n",
    "# 6. Define loss function\n",
    "# 7. Define Optimizer\n",
    "# 8. Define train/val loop\n",
    "# 9. Define test criterion"
   ]
  },
  {
   "cell_type": "code",
   "execution_count": 16,
   "metadata": {},
   "outputs": [
    {
     "data": {
      "text/html": [
       "Finishing last run (ID:hhgjetew) before initializing another..."
      ],
      "text/plain": [
       "<IPython.core.display.HTML object>"
      ]
     },
     "metadata": {},
     "output_type": "display_data"
    },
    {
     "data": {
      "text/html": [
       "...Successfully finished last run (ID:hhgjetew). Initializing new run:<br/><br/>"
      ],
      "text/plain": [
       "<IPython.core.display.HTML object>"
      ]
     },
     "metadata": {},
     "output_type": "display_data"
    },
    {
     "name": "stderr",
     "output_type": "stream",
     "text": [
      "wandb: wandb version 0.11.0 is available!  To upgrade, please run:\n",
      "wandb:  $ pip install wandb --upgrade\n"
     ]
    },
    {
     "data": {
      "text/html": [
       "\n",
       "                Tracking run with wandb version 0.10.33<br/>\n",
       "                Syncing run <strong style=\"color:#cdcd00\">polar-night-13</strong> to <a href=\"https://wandb.ai\" target=\"_blank\">Weights & Biases</a> <a href=\"https://docs.wandb.com/integrations/jupyter.html\" target=\"_blank\">(Documentation)</a>.<br/>\n",
       "                Project page: <a href=\"https://wandb.ai/hikmatkhan-/Github_Rapo\" target=\"_blank\">https://wandb.ai/hikmatkhan-/Github_Rapo</a><br/>\n",
       "                Run page: <a href=\"https://wandb.ai/hikmatkhan-/Github_Rapo/runs/2tceq1uh\" target=\"_blank\">https://wandb.ai/hikmatkhan-/Github_Rapo/runs/2tceq1uh</a><br/>\n",
       "                Run data is saved locally in <code>/home/hikmat/Desktop/JWorkSpace/Continual-Learning/PyTorching/wandb/run-20210716_083053-2tceq1uh</code><br/><br/>\n",
       "            "
      ],
      "text/plain": [
       "<IPython.core.display.HTML object>"
      ]
     },
     "metadata": {},
     "output_type": "display_data"
    },
    {
     "data": {
      "text/html": [
       "<h1>Run(2tceq1uh)</h1><iframe src=\"https://wandb.ai/hikmatkhan-/Github_Rapo/runs/2tceq1uh\" style=\"border:none;width:100%;height:400px\"></iframe>"
      ],
      "text/plain": [
       "<wandb.sdk.wandb_run.Run at 0x7f48d9fb5208>"
      ]
     },
     "execution_count": 16,
     "metadata": {},
     "output_type": "execute_result"
    }
   ],
   "source": [
    "import torch\n",
    "import torchvision\n",
    "import torchvision.transforms as transforms\n",
    "from torchvision.datasets import MNIST\n",
    "from torch import nn\n",
    "import wandb\n",
    "wandb.init(project=\"Github_Rapo\", entity=\"hikmatkhan-\")"
   ]
  },
  {
   "cell_type": "code",
   "execution_count": 17,
   "metadata": {},
   "outputs": [],
   "source": [
    "#Hyper-parameters\n",
    "b_s = 4096\n",
    "epoches = 100\n",
    "lr = 0.01\n",
    "config = wandb.config\n",
    "config.batch_size = 32\n",
    "config.epoches = 10\n",
    "config.learning_rate = lr"
   ]
  },
  {
   "cell_type": "code",
   "execution_count": 18,
   "metadata": {},
   "outputs": [
    {
     "name": "stdout",
     "output_type": "stream",
     "text": [
      "Downloading http://yann.lecun.com/exdb/mnist/train-images-idx3-ubyte.gz to ./data/MNIST/raw/train-images-idx3-ubyte.gz\n"
     ]
    },
    {
     "data": {
      "application/vnd.jupyter.widget-view+json": {
       "model_id": "148273bf66ff4cae8af96bc60ccd9387",
       "version_major": 2,
       "version_minor": 0
      },
      "text/plain": [
       "HBox(children=(FloatProgress(value=1.0, bar_style='info', max=1.0), HTML(value='')))"
      ]
     },
     "metadata": {},
     "output_type": "display_data"
    },
    {
     "name": "stdout",
     "output_type": "stream",
     "text": [
      "Extracting ./data/MNIST/raw/train-images-idx3-ubyte.gz to ./data/MNIST/raw\n",
      "Downloading http://yann.lecun.com/exdb/mnist/train-labels-idx1-ubyte.gz to ./data/MNIST/raw/train-labels-idx1-ubyte.gz\n"
     ]
    },
    {
     "data": {
      "application/vnd.jupyter.widget-view+json": {
       "model_id": "c6a493c6a4174deaa678894effabcf46",
       "version_major": 2,
       "version_minor": 0
      },
      "text/plain": [
       "HBox(children=(FloatProgress(value=1.0, bar_style='info', max=1.0), HTML(value='')))"
      ]
     },
     "metadata": {},
     "output_type": "display_data"
    },
    {
     "name": "stdout",
     "output_type": "stream",
     "text": [
      "Extracting ./data/MNIST/raw/train-labels-idx1-ubyte.gz to ./data/MNIST/raw\n",
      "Downloading http://yann.lecun.com/exdb/mnist/t10k-images-idx3-ubyte.gz to ./data/MNIST/raw/t10k-images-idx3-ubyte.gz\n"
     ]
    },
    {
     "data": {
      "application/vnd.jupyter.widget-view+json": {
       "model_id": "0497f05b1edf47ad9ee03adeecd6f2d3",
       "version_major": 2,
       "version_minor": 0
      },
      "text/plain": [
       "HBox(children=(FloatProgress(value=1.0, bar_style='info', max=1.0), HTML(value='')))"
      ]
     },
     "metadata": {},
     "output_type": "display_data"
    },
    {
     "name": "stdout",
     "output_type": "stream",
     "text": [
      "\n",
      "Extracting ./data/MNIST/raw/t10k-images-idx3-ubyte.gz to ./data/MNIST/raw\n",
      "Downloading http://yann.lecun.com/exdb/mnist/t10k-labels-idx1-ubyte.gz to ./data/MNIST/raw/t10k-labels-idx1-ubyte.gz\n"
     ]
    },
    {
     "data": {
      "application/vnd.jupyter.widget-view+json": {
       "model_id": "d00d2a6a50194983840c8171cfdf9d7a",
       "version_major": 2,
       "version_minor": 0
      },
      "text/plain": [
       "HBox(children=(FloatProgress(value=1.0, bar_style='info', max=1.0), HTML(value='')))"
      ]
     },
     "metadata": {},
     "output_type": "display_data"
    },
    {
     "name": "stdout",
     "output_type": "stream",
     "text": [
      "Extracting ./data/MNIST/raw/t10k-labels-idx1-ubyte.gz to ./data/MNIST/raw\n",
      "Processing...\n",
      "Done!\n"
     ]
    }
   ],
   "source": [
    "#Dataset\n",
    "transform = transforms.Compose(\n",
    "    [transforms.ToTensor()])\n",
    "\n",
    "trainset = MNIST(\"./data\", train=True, transform=transform, download=True)\n",
    "trainloader = torch.utils.data.DataLoader(trainset, batch_size=b_s,\n",
    "                                          shuffle=True, num_workers=2)\n",
    "testset = MNIST(\"./data\", train=False, transform=transform, download=True)\n",
    "testloader = torch.utils.data.DataLoader(testset, batch_size=b_s,\n",
    "                                          shuffle=True, num_workers=2)"
   ]
  },
  {
   "cell_type": "code",
   "execution_count": null,
   "metadata": {},
   "outputs": [],
   "source": [
    "#Model\n",
    "class LeNet(nn.Module):\n",
    "    def __init__(self):\n",
    "        super(LeNet, self).__init__()\n",
    "        self.conv1 = nn.Conv2d(1, 6, 5)\n",
    "        self.relu1 = nn.ReLU()\n",
    "        self.pool1 = nn.MaxPool2d(2)\n",
    "        self.conv2 = nn.Conv2d(6, 16, 5)\n",
    "        self.relu2 = nn.ReLU()\n",
    "        self.pool2 = nn.MaxPool2d(2)\n",
    "        self.fc1 = nn.Linear(256, 120)\n",
    "        self.relu3 = nn.ReLU()\n",
    "        self.fc2 = nn.Linear(120, 84)\n",
    "        self.relu4 = nn.ReLU()\n",
    "        self.fc3 = nn.Linear(84, 10)\n",
    "        self.relu5 = nn.ReLU()\n",
    "        \n",
    "    def forward(self, x):\n",
    "        x = self.conv1(x)\n",
    "        x = self.relu1(x)\n",
    "        x = self.pool1(x)\n",
    "        x = self.conv2(x)\n",
    "        x = self.relu2(x)\n",
    "        x = self.pool2(x)\n",
    "        x = x.view(x.shape[0], -1)\n",
    "        x = self.fc1(x)\n",
    "        x = self.relu3(x)\n",
    "        x = self.fc2(x)\n",
    "        x = self.relu4(x)\n",
    "        x = self.fc3(x)\n",
    "        x = self.relu5(x)\n",
    "#         x = nn.functional.softmax(x)\n",
    "        return x\n",
    "x = torch.rand((1,1,28,28))\n",
    "lenet = LeNet()\n",
    "print(\"Logit:\", lenet(x), \" Summed:\", torch.sum(lenet(x)))\n",
    "\n",
    "\n",
    "print(x.shape)"
   ]
  },
  {
   "cell_type": "code",
   "execution_count": null,
   "metadata": {},
   "outputs": [],
   "source": [
    "# Important Steps:\n",
    "# 1. Necessary Imports :) \n",
    "# 3. Hyper-parameters \n",
    "# 4. Dataset (Pre-Processing if any)\n",
    "# 5. Define model\n",
    "# 6. Define loss function\n",
    "# 7. Define Optimizer\n",
    "# 8. Define train/val loop\n",
    "# 9. Define test criterion"
   ]
  },
  {
   "cell_type": "code",
   "execution_count": null,
   "metadata": {},
   "outputs": [],
   "source": [
    "criterion = nn.CrossEntropyLoss()\n",
    "optimizer = torch.optim.Adam(lenet.parameters(), lr=lr)"
   ]
  },
  {
   "cell_type": "code",
   "execution_count": null,
   "metadata": {
    "scrolled": true
   },
   "outputs": [],
   "source": [
    "for epoch in range(0, epoches):\n",
    "    lenet.train()\n",
    "    for idx, (train_x, train_y) in enumerate(trainloader):\n",
    "        optimizer.zero_grad()\n",
    "        y_hat = lenet(train_x)\n",
    "    #     print(\"y_hat:\", y_hat.shape)\n",
    "        loss = criterion(y_hat, train_y)\n",
    "\n",
    "        if(idx % 100 ==0):\n",
    "            print(\"E:{0} Loss:{1}\".format(epoch, loss.sum().item()))\n",
    "#             wandb.log({\"loss:\": loss.item()})\n",
    "\n",
    "        loss.backward()\n",
    "        optimizer.step()\n",
    "    #     print(\"L:\", idx, \" X:\", x.shape, \" Y:\", y.shape, \" Y_Values:\", y)\n",
    "#         break\n",
    "    lenet.eval()\n",
    "    \n",
    "    correct = 0\n",
    "    total = 0\n",
    "    for idx, (test_x, test_y) in enumerate(testloader):\n",
    "        y_hat = torch.argmax(lenet(test_x), dim=-1)\n",
    "#         print(y_hat == test_y)\n",
    "#         print(\"Y_Hat:\", y_hat)\n",
    "#         print(\"Test_Y:\", test_y)\n",
    "        correct = correct + torch.sum(y_hat == test_y, dim=-1)\n",
    "        total = total + test_x.shape[0]\n",
    "#         break\n",
    "        \n",
    "#     break\n",
    "    print(\"Correct:\", correct.item(), \" Total:\", total)\n",
    "    accuracy = (correct / total)\n",
    "#     wandb.log({\"Accuracy\": accuracy})\n",
    "    print(\"Accuracy:\", accuracy)\n",
    "        \n",
    "    "
   ]
  },
  {
   "cell_type": "code",
   "execution_count": null,
   "metadata": {},
   "outputs": [],
   "source": [
    "print(correct)\n",
    "print(total)"
   ]
  },
  {
   "cell_type": "code",
   "execution_count": null,
   "metadata": {},
   "outputs": [],
   "source": []
  }
 ],
 "metadata": {
  "kernelspec": {
   "display_name": "Python 3",
   "language": "python",
   "name": "python3"
  }
 },
 "nbformat": 4,
 "nbformat_minor": 4
}
